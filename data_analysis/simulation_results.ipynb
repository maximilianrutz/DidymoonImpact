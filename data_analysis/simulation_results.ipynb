{
 "cells": [
  {
   "cell_type": "markdown",
   "metadata": {
    "slideshow": {
     "slide_type": "slide"
    }
   },
   "source": [
    "# <center>Analysis of DART impact simulations</center>"
   ]
  },
  {
   "cell_type": "markdown",
   "metadata": {},
   "source": [
    "## 0) Imports"
   ]
  },
  {
   "cell_type": "code",
   "execution_count": 7,
   "metadata": {},
   "outputs": [
    {
     "name": "stdout",
     "output_type": "stream",
     "text": [
      "The nb_black extension is already loaded. To reload it, use:\n",
      "  %reload_ext nb_black\n"
     ]
    },
    {
     "data": {
      "application/javascript": [
       "\n",
       "            setTimeout(function() {\n",
       "                var nbb_cell_id = 7;\n",
       "                var nbb_unformatted_code = \"import numpy as np\\nfrom matplotlib import pyplot as plt\\nimport pandas as pd\\n\\nimport os\\nimport h5py\\nfrom betafactor import betafactor\\n\\n%load_ext nb_black\\n%matplotlib inline\\nplt.rcParams[\\\"figure.dpi\\\"] = 100\\npd.set_option(\\\"display.precision\\\", 2)\";\n",
       "                var nbb_formatted_code = \"import numpy as np\\nfrom matplotlib import pyplot as plt\\nimport pandas as pd\\n\\nimport os\\nimport h5py\\nfrom betafactor import betafactor\\n\\n%load_ext nb_black\\n%matplotlib inline\\nplt.rcParams[\\\"figure.dpi\\\"] = 100\\npd.set_option(\\\"display.precision\\\", 2)\";\n",
       "                var nbb_cells = Jupyter.notebook.get_cells();\n",
       "                for (var i = 0; i < nbb_cells.length; ++i) {\n",
       "                    if (nbb_cells[i].input_prompt_number == nbb_cell_id) {\n",
       "                        if (nbb_cells[i].get_text() == nbb_unformatted_code) {\n",
       "                             nbb_cells[i].set_text(nbb_formatted_code);\n",
       "                        }\n",
       "                        break;\n",
       "                    }\n",
       "                }\n",
       "            }, 500);\n",
       "            "
      ],
      "text/plain": [
       "<IPython.core.display.Javascript object>"
      ]
     },
     "metadata": {},
     "output_type": "display_data"
    }
   ],
   "source": [
    "import numpy as np\n",
    "from matplotlib import pyplot as plt\n",
    "import pandas as pd\n",
    "\n",
    "import os\n",
    "import h5py\n",
    "from betafactor import betafactor\n",
    "\n",
    "%load_ext nb_black\n",
    "%matplotlib inline\n",
    "plt.rcParams[\"figure.dpi\"] = 100\n",
    "pd.set_option(\"display.precision\", 2)"
   ]
  },
  {
   "cell_type": "markdown",
   "metadata": {},
   "source": [
    "## 1) Beta factor:"
   ]
  },
  {
   "cell_type": "code",
   "execution_count": 2,
   "metadata": {},
   "outputs": [
    {
     "data": {
      "text/plain": [
       "['/scratch/rutz/DidymoonImpact/data/binac_por_str/por0_str1e3_ang0/impact_por0_str1e3_ang0.0300.h5',\n",
       " '/scratch/rutz/DidymoonImpact/data/binac_por_str/por0_str1e4_ang0/impact_por0_str1e4_ang0.0300.h5',\n",
       " '/scratch/rutz/DidymoonImpact/data/binac_por_str/por0_str1e5_ang0/impact_por0_str1e5_ang0.0300.h5',\n",
       " '/scratch/rutz/DidymoonImpact/data/binac_por_str/por0_str1e6_ang0/impact_por0_str1e6_ang0.0300.h5',\n",
       " '/scratch/rutz/DidymoonImpact/data/binac_por_str/por17_str1e3_ang0/impact_por17_str1e3_ang0.0300.h5',\n",
       " '/scratch/rutz/DidymoonImpact/data/binac_por_str/por17_str1e4_ang0/impact_por17_str1e4_ang0.0300.h5',\n",
       " '/scratch/rutz/DidymoonImpact/data/binac_por_str/por17_str1e5_ang0/impact_por17_str1e5_ang0.0300.h5',\n",
       " '/scratch/rutz/DidymoonImpact/data/binac_por_str/por17_str1e6_ang0/impact_por17_str1e6_ang0.0300.h5',\n",
       " '/scratch/rutz/DidymoonImpact/data/binac_por_str/por33_str1e3_ang0/impact_por33_str1e3_ang0.0300.h5',\n",
       " '/scratch/rutz/DidymoonImpact/data/binac_por_str/por33_str1e4_ang0/impact_por33_str1e4_ang0.0300.h5',\n",
       " '/scratch/rutz/DidymoonImpact/data/binac_por_str/por33_str1e5_ang0/impact_por33_str1e5_ang0.0300.h5',\n",
       " '/scratch/rutz/DidymoonImpact/data/binac_por_str/por33_str1e6_ang0/impact_por33_str1e6_ang0.0300.h5',\n",
       " '/scratch/rutz/DidymoonImpact/data/binac_por_str/por50_str1e3_ang0/impact_por50_str1e3_ang0.0300.h5',\n",
       " '/scratch/rutz/DidymoonImpact/data/binac_por_str/por50_str1e4_ang0/impact_por50_str1e4_ang0.0300.h5',\n",
       " '/scratch/rutz/DidymoonImpact/data/binac_por_str/por50_str1e5_ang0/impact_por50_str1e5_ang0.0300.h5',\n",
       " '/scratch/rutz/DidymoonImpact/data/binac_por_str/por50_str1e6_ang0/impact_por50_str1e6_ang0.0300.h5']"
      ]
     },
     "execution_count": 2,
     "metadata": {},
     "output_type": "execute_result"
    },
    {
     "data": {
      "application/javascript": [
       "\n",
       "            setTimeout(function() {\n",
       "                var nbb_cell_id = 2;\n",
       "                var nbb_unformatted_code = \"project_path = \\\"/scratch/rutz/DidymoonImpact\\\"\\nfolder_name = \\\"binac_por_str\\\"\\n\\nfilelist = sorted(os.listdir(f\\\"{project_path}/data/{folder_name}/\\\"))[::2]\\nfiles = [\\n    f\\\"{project_path}/data/{folder_name}/{file}/impact_{file}.0300.h5\\\"\\n    for file in filelist\\n]\\nfiles\";\n",
       "                var nbb_formatted_code = \"project_path = \\\"/scratch/rutz/DidymoonImpact\\\"\\nfolder_name = \\\"binac_por_str\\\"\\n\\nfilelist = sorted(os.listdir(f\\\"{project_path}/data/{folder_name}/\\\"))[::2]\\nfiles = [\\n    f\\\"{project_path}/data/{folder_name}/{file}/impact_{file}.0300.h5\\\"\\n    for file in filelist\\n]\\nfiles\";\n",
       "                var nbb_cells = Jupyter.notebook.get_cells();\n",
       "                for (var i = 0; i < nbb_cells.length; ++i) {\n",
       "                    if (nbb_cells[i].input_prompt_number == nbb_cell_id) {\n",
       "                        if (nbb_cells[i].get_text() == nbb_unformatted_code) {\n",
       "                             nbb_cells[i].set_text(nbb_formatted_code);\n",
       "                        }\n",
       "                        break;\n",
       "                    }\n",
       "                }\n",
       "            }, 500);\n",
       "            "
      ],
      "text/plain": [
       "<IPython.core.display.Javascript object>"
      ]
     },
     "metadata": {},
     "output_type": "display_data"
    }
   ],
   "source": [
    "project_path = \"/scratch/rutz/DidymoonImpact\"\n",
    "folder_name = \"binac_por_str\"\n",
    "\n",
    "filelist = sorted(os.listdir(f\"{project_path}/data/{folder_name}/\"))[::2]\n",
    "files = [\n",
    "    f\"{project_path}/data/{folder_name}/{file}/impact_{file}.0300.h5\"\n",
    "    for file in filelist\n",
    "]\n",
    "files"
   ]
  },
  {
   "cell_type": "code",
   "execution_count": 3,
   "metadata": {
    "scrolled": false
   },
   "outputs": [
    {
     "data": {
      "application/javascript": [
       "\n",
       "            setTimeout(function() {\n",
       "                var nbb_cell_id = 3;\n",
       "                var nbb_unformatted_code = \"ejecta_thresh = 1\\nbetas = {}\\nfor i, file in enumerate(files):\\n    betas[file.split(\\\"impact_\\\")[1].split(\\\".\\\")[0]] = betafactor(file, ejecta_thresh)\";\n",
       "                var nbb_formatted_code = \"ejecta_thresh = 1\\nbetas = {}\\nfor i, file in enumerate(files):\\n    betas[file.split(\\\"impact_\\\")[1].split(\\\".\\\")[0]] = betafactor(file, ejecta_thresh)\";\n",
       "                var nbb_cells = Jupyter.notebook.get_cells();\n",
       "                for (var i = 0; i < nbb_cells.length; ++i) {\n",
       "                    if (nbb_cells[i].input_prompt_number == nbb_cell_id) {\n",
       "                        if (nbb_cells[i].get_text() == nbb_unformatted_code) {\n",
       "                             nbb_cells[i].set_text(nbb_formatted_code);\n",
       "                        }\n",
       "                        break;\n",
       "                    }\n",
       "                }\n",
       "            }, 500);\n",
       "            "
      ],
      "text/plain": [
       "<IPython.core.display.Javascript object>"
      ]
     },
     "metadata": {},
     "output_type": "display_data"
    }
   ],
   "source": [
    "ejecta_thresh = 1\n",
    "betas = {}\n",
    "for i, file in enumerate(files):\n",
    "    betas[file.split(\"impact_\")[1].split(\".\")[0]] = betafactor(file, ejecta_thresh)"
   ]
  },
  {
   "cell_type": "code",
   "execution_count": 14,
   "metadata": {},
   "outputs": [
    {
     "data": {
      "application/javascript": [
       "\n",
       "            setTimeout(function() {\n",
       "                var nbb_cell_id = 14;\n",
       "                var nbb_unformatted_code = \"strengths_plot = []\\nfor i, strength in enumerate([\\\"1e3\\\", \\\"1e4\\\", \\\"1e5\\\", \\\"1e6\\\"]):\\n    strengths_plot.append([value for key, value in betas.items() if strength in key])\\n    \\nporosities_plot = [0, 17, 33, 50]\";\n",
       "                var nbb_formatted_code = \"strengths_plot = []\\nfor i, strength in enumerate([\\\"1e3\\\", \\\"1e4\\\", \\\"1e5\\\", \\\"1e6\\\"]):\\n    strengths_plot.append([value for key, value in betas.items() if strength in key])\\n\\nporosities_plot = [0, 17, 33, 50]\";\n",
       "                var nbb_cells = Jupyter.notebook.get_cells();\n",
       "                for (var i = 0; i < nbb_cells.length; ++i) {\n",
       "                    if (nbb_cells[i].input_prompt_number == nbb_cell_id) {\n",
       "                        if (nbb_cells[i].get_text() == nbb_unformatted_code) {\n",
       "                             nbb_cells[i].set_text(nbb_formatted_code);\n",
       "                        }\n",
       "                        break;\n",
       "                    }\n",
       "                }\n",
       "            }, 500);\n",
       "            "
      ],
      "text/plain": [
       "<IPython.core.display.Javascript object>"
      ]
     },
     "metadata": {},
     "output_type": "display_data"
    }
   ],
   "source": [
    "strengths_plot = []\n",
    "for i, strength in enumerate([\"1e3\", \"1e4\", \"1e5\", \"1e6\"]):\n",
    "    strengths_plot.append([value for key, value in betas.items() if strength in key])\n",
    "\n",
    "porosities_plot = [0, 17, 33, 50]"
   ]
  },
  {
   "cell_type": "markdown",
   "metadata": {},
   "source": [
    "#### Plot"
   ]
  },
  {
   "cell_type": "code",
   "execution_count": 16,
   "metadata": {},
   "outputs": [
    {
     "data": {
      "image/png": "[encoded data removed]",
      "text/plain": [
       "<Figure size 600x400 with 1 Axes>"
      ]
     },
     "metadata": {
      "needs_background": "light"
     },
     "output_type": "display_data"
    },
    {
     "data": {
      "application/javascript": [
       "\n",
       "            setTimeout(function() {\n",
       "                var nbb_cell_id = 16;\n",
       "                var nbb_unformatted_code = \"fig, ax = plt.subplots()\\nax.plot(porosities_plot, strengths_plot[0], label=f\\\"Y = 1 kPa\\\")\\nax.plot(porosities_plot, strengths_plot[1], label=f\\\"Y = 10 kPa\\\")\\nax.plot(porosities_plot, strengths_plot[2], label=f\\\"Y = 100 kPa\\\")\\nax.plot(porosities_plot, strengths_plot[3], label=f\\\"Y = 1 MPa\\\")\\nax.set_title(\\\"Beta factor\\\")\\nax.set_ylabel(\\\"beta factor\\\")\\nax.set_xlabel(\\\"% porosity\\\")\\nplt.legend()\\nfig.savefig(\\\"../MasterThesis/images/beta_results.pdf\\\")\";\n",
       "                var nbb_formatted_code = \"fig, ax = plt.subplots()\\nax.plot(porosities_plot, strengths_plot[0], label=f\\\"Y = 1 kPa\\\")\\nax.plot(porosities_plot, strengths_plot[1], label=f\\\"Y = 10 kPa\\\")\\nax.plot(porosities_plot, strengths_plot[2], label=f\\\"Y = 100 kPa\\\")\\nax.plot(porosities_plot, strengths_plot[3], label=f\\\"Y = 1 MPa\\\")\\nax.set_title(\\\"Beta factor\\\")\\nax.set_ylabel(\\\"beta factor\\\")\\nax.set_xlabel(\\\"% porosity\\\")\\nplt.legend()\\nfig.savefig(\\\"../MasterThesis/images/beta_results.pdf\\\")\";\n",
       "                var nbb_cells = Jupyter.notebook.get_cells();\n",
       "                for (var i = 0; i < nbb_cells.length; ++i) {\n",
       "                    if (nbb_cells[i].input_prompt_number == nbb_cell_id) {\n",
       "                        if (nbb_cells[i].get_text() == nbb_unformatted_code) {\n",
       "                             nbb_cells[i].set_text(nbb_formatted_code);\n",
       "                        }\n",
       "                        break;\n",
       "                    }\n",
       "                }\n",
       "            }, 500);\n",
       "            "
      ],
      "text/plain": [
       "<IPython.core.display.Javascript object>"
      ]
     },
     "metadata": {},
     "output_type": "display_data"
    }
   ],
   "source": [
    "fig, ax = plt.subplots()\n",
    "ax.plot(porosities_plot, strengths_plot[0], label=f\"Y = 1 kPa\")\n",
    "ax.plot(porosities_plot, strengths_plot[1], label=f\"Y = 10 kPa\")\n",
    "ax.plot(porosities_plot, strengths_plot[2], label=f\"Y = 100 kPa\")\n",
    "ax.plot(porosities_plot, strengths_plot[3], label=f\"Y = 1 MPa\")\n",
    "ax.set_title(\"Beta factor\")\n",
    "ax.set_ylabel(\"beta factor\")\n",
    "ax.set_xlabel(\"% porosity\")\n",
    "plt.legend()\n",
    "fig.savefig(\"../MasterThesis/images/beta_results.pdf\")"
   ]
  }
 ],
 "metadata": {
  "kernelspec": {
   "display_name": "Python 3",
   "language": "python",
   "name": "python3"
  },
  "language_info": {
   "codemirror_mode": {
    "name": "ipython",
    "version": 3
   },
   "file_extension": ".py",
   "mimetype": "text/x-python",
   "name": "python",
   "nbconvert_exporter": "python",
   "pygments_lexer": "ipython3",
   "version": "3.6.9"
  }
 },
 "nbformat": 4,
 "nbformat_minor": 4
}
