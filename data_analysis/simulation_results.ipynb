{
 "cells": [
  {
   "cell_type": "markdown",
   "metadata": {},
   "source": [
    "# Analysis of AIDA impact simulations"
   ]
  },
  {
   "cell_type": "markdown",
   "metadata": {},
   "source": [
    "## 0) Imports"
   ]
  },
  {
   "cell_type": "code",
   "execution_count": 14,
   "metadata": {},
   "outputs": [
    {
     "name": "stdout",
     "output_type": "stream",
     "text": [
      "The nb_black extension is already loaded. To reload it, use:\n",
      "  %reload_ext nb_black\n"
     ]
    },
    {
     "data": {
      "application/javascript": [
       "\n",
       "            setTimeout(function() {\n",
       "                var nbb_cell_id = 14;\n",
       "                var nbb_unformatted_code = \"import numpy as np\\nfrom matplotlib import pyplot as plt\\nimport pandas as pd\\nimport h5py\\nimport scipy\\n\\n%load_ext nb_black\\n%matplotlib inline\\nplt.rcParams[\\\"figure.figsize\\\"] = (15, 10)\\npd.set_option(\\\"display.precision\\\", 2)\";\n",
       "                var nbb_formatted_code = \"import numpy as np\\nfrom matplotlib import pyplot as plt\\nimport pandas as pd\\nimport h5py\\nimport scipy\\n\\n%load_ext nb_black\\n%matplotlib inline\\nplt.rcParams[\\\"figure.figsize\\\"] = (15, 10)\\npd.set_option(\\\"display.precision\\\", 2)\";\n",
       "                var nbb_cells = Jupyter.notebook.get_cells();\n",
       "                for (var i = 0; i < nbb_cells.length; ++i) {\n",
       "                    if (nbb_cells[i].input_prompt_number == nbb_cell_id) {\n",
       "                        if (nbb_cells[i].get_text() == nbb_unformatted_code) {\n",
       "                             nbb_cells[i].set_text(nbb_formatted_code);\n",
       "                        }\n",
       "                        break;\n",
       "                    }\n",
       "                }\n",
       "            }, 500);\n",
       "            "
      ],
      "text/plain": [
       "<IPython.core.display.Javascript object>"
      ]
     },
     "metadata": {},
     "output_type": "display_data"
    }
   ],
   "source": [
    "import numpy as np\n",
    "from matplotlib import pyplot as plt\n",
    "import pandas as pd\n",
    "import h5py\n",
    "import scipy\n",
    "\n",
    "%load_ext nb_black\n",
    "%matplotlib inline\n",
    "plt.rcParams[\"figure.figsize\"] = (15, 10)\n",
    "pd.set_option(\"display.precision\", 2)"
   ]
  },
  {
   "cell_type": "markdown",
   "metadata": {},
   "source": [
    "## 1) Load simulation data:"
   ]
  },
  {
   "cell_type": "code",
   "execution_count": 2,
   "metadata": {},
   "outputs": [
    {
     "data": {
      "application/javascript": [
       "\n",
       "            setTimeout(function() {\n",
       "                var nbb_cell_id = 2;\n",
       "                var nbb_unformatted_code = \"dirpath = \\\"../data/\\\"\\nfilename = \\\"impact_damage_visc1.0089.h5\\\"\";\n",
       "                var nbb_formatted_code = \"dirpath = \\\"../data/\\\"\\nfilename = \\\"impact_damage_visc1.0089.h5\\\"\";\n",
       "                var nbb_cells = Jupyter.notebook.get_cells();\n",
       "                for (var i = 0; i < nbb_cells.length; ++i) {\n",
       "                    if (nbb_cells[i].input_prompt_number == nbb_cell_id) {\n",
       "                        if (nbb_cells[i].get_text() == nbb_unformatted_code) {\n",
       "                             nbb_cells[i].set_text(nbb_formatted_code);\n",
       "                        }\n",
       "                        break;\n",
       "                    }\n",
       "                }\n",
       "            }, 500);\n",
       "            "
      ],
      "text/plain": [
       "<IPython.core.display.Javascript object>"
      ]
     },
     "metadata": {},
     "output_type": "display_data"
    }
   ],
   "source": [
    "dirpath = \"../data/\"\n",
    "filename = \"impact_damage_visc1.0089.h5\""
   ]
  },
  {
   "cell_type": "code",
   "execution_count": 3,
   "metadata": {},
   "outputs": [
    {
     "data": {
      "application/javascript": [
       "\n",
       "            setTimeout(function() {\n",
       "                var nbb_cell_id = 3;\n",
       "                var nbb_unformatted_code = \"with h5py.File(f\\\"{dirpath}{filename}\\\", \\\"r\\\") as hdf:\\n    keys = list(hdf.keys())\";\n",
       "                var nbb_formatted_code = \"with h5py.File(f\\\"{dirpath}{filename}\\\", \\\"r\\\") as hdf:\\n    keys = list(hdf.keys())\";\n",
       "                var nbb_cells = Jupyter.notebook.get_cells();\n",
       "                for (var i = 0; i < nbb_cells.length; ++i) {\n",
       "                    if (nbb_cells[i].input_prompt_number == nbb_cell_id) {\n",
       "                        if (nbb_cells[i].get_text() == nbb_unformatted_code) {\n",
       "                             nbb_cells[i].set_text(nbb_formatted_code);\n",
       "                        }\n",
       "                        break;\n",
       "                    }\n",
       "                }\n",
       "            }, 500);\n",
       "            "
      ],
      "text/plain": [
       "<IPython.core.display.Javascript object>"
      ]
     },
     "metadata": {},
     "output_type": "display_data"
    }
   ],
   "source": [
    "with h5py.File(f\"{dirpath}{filename}\", \"r\") as hdf:\n",
    "    keys = list(hdf.keys())"
   ]
  },
  {
   "cell_type": "code",
   "execution_count": 4,
   "metadata": {},
   "outputs": [
    {
     "data": {
      "text/plain": [
       "['DIM_root_of_damage_porjutzi',\n",
       " 'DIM_root_of_damage_tensile',\n",
       " 'a',\n",
       " 'a_grav',\n",
       " 'activation_thresholds',\n",
       " 'alpha_jutzi',\n",
       " 'dalphadt',\n",
       " 'damage_total',\n",
       " 'ddamage_porjutzidt',\n",
       " 'dddt',\n",
       " 'ddeviatoric_stress_dt',\n",
       " 'dedt',\n",
       " 'deviatoric_stress',\n",
       " 'drhodt',\n",
       " 'e',\n",
       " 'local_strain',\n",
       " 'm',\n",
       " 'material_type',\n",
       " 'maximum_number_of_flaws',\n",
       " 'number_of_activated_flaws',\n",
       " 'number_of_interactions',\n",
       " 'p',\n",
       " 'rho',\n",
       " 'sml',\n",
       " 'soundspeed',\n",
       " 'time',\n",
       " 'tree_depth',\n",
       " 'v',\n",
       " 'x']"
      ]
     },
     "execution_count": 4,
     "metadata": {},
     "output_type": "execute_result"
    },
    {
     "data": {
      "application/javascript": [
       "\n",
       "            setTimeout(function() {\n",
       "                var nbb_cell_id = 4;\n",
       "                var nbb_unformatted_code = \"keys\";\n",
       "                var nbb_formatted_code = \"keys\";\n",
       "                var nbb_cells = Jupyter.notebook.get_cells();\n",
       "                for (var i = 0; i < nbb_cells.length; ++i) {\n",
       "                    if (nbb_cells[i].input_prompt_number == nbb_cell_id) {\n",
       "                        if (nbb_cells[i].get_text() == nbb_unformatted_code) {\n",
       "                             nbb_cells[i].set_text(nbb_formatted_code);\n",
       "                        }\n",
       "                        break;\n",
       "                    }\n",
       "                }\n",
       "            }, 500);\n",
       "            "
      ],
      "text/plain": [
       "<IPython.core.display.Javascript object>"
      ]
     },
     "metadata": {},
     "output_type": "display_data"
    }
   ],
   "source": [
    "keys"
   ]
  },
  {
   "cell_type": "code",
   "execution_count": 5,
   "metadata": {},
   "outputs": [
    {
     "data": {
      "application/javascript": [
       "\n",
       "            setTimeout(function() {\n",
       "                var nbb_cell_id = 5;\n",
       "                var nbb_unformatted_code = \"with h5py.File(f\\\"{dirpath}{filename}\\\", \\\"r\\\") as hdf:\\n    positions = hdf.get(\\\"x\\\")[:]\\n    velocities = hdf.get(\\\"v\\\")[:]\";\n",
       "                var nbb_formatted_code = \"with h5py.File(f\\\"{dirpath}{filename}\\\", \\\"r\\\") as hdf:\\n    positions = hdf.get(\\\"x\\\")[:]\\n    velocities = hdf.get(\\\"v\\\")[:]\";\n",
       "                var nbb_cells = Jupyter.notebook.get_cells();\n",
       "                for (var i = 0; i < nbb_cells.length; ++i) {\n",
       "                    if (nbb_cells[i].input_prompt_number == nbb_cell_id) {\n",
       "                        if (nbb_cells[i].get_text() == nbb_unformatted_code) {\n",
       "                             nbb_cells[i].set_text(nbb_formatted_code);\n",
       "                        }\n",
       "                        break;\n",
       "                    }\n",
       "                }\n",
       "            }, 500);\n",
       "            "
      ],
      "text/plain": [
       "<IPython.core.display.Javascript object>"
      ]
     },
     "metadata": {},
     "output_type": "display_data"
    }
   ],
   "source": [
    "with h5py.File(f\"{dirpath}{filename}\", \"r\") as hdf:\n",
    "    positions = hdf.get(\"x\")[:]\n",
    "    velocities = hdf.get(\"v\")[:]"
   ]
  },
  {
   "cell_type": "code",
   "execution_count": 16,
   "metadata": {},
   "outputs": [
    {
     "data": {
      "application/javascript": [
       "\n",
       "            setTimeout(function() {\n",
       "                var nbb_cell_id = 16;\n",
       "                var nbb_unformatted_code = \"df = pd.DataFrame(\\n    {\\n        \\\"x\\\": positions[:, 0],\\n        \\\"y\\\": positions[:, 1],\\n        \\\"z\\\": positions[:, 2],\\n        \\\"vx\\\": velocities[:, 0],\\n        \\\"vy\\\": velocities[:, 1],\\n        \\\"vz\\\": velocities[:, 2],\\n    }\\n)\";\n",
       "                var nbb_formatted_code = \"df = pd.DataFrame(\\n    {\\n        \\\"x\\\": positions[:, 0],\\n        \\\"y\\\": positions[:, 1],\\n        \\\"z\\\": positions[:, 2],\\n        \\\"vx\\\": velocities[:, 0],\\n        \\\"vy\\\": velocities[:, 1],\\n        \\\"vz\\\": velocities[:, 2],\\n    }\\n)\";\n",
       "                var nbb_cells = Jupyter.notebook.get_cells();\n",
       "                for (var i = 0; i < nbb_cells.length; ++i) {\n",
       "                    if (nbb_cells[i].input_prompt_number == nbb_cell_id) {\n",
       "                        if (nbb_cells[i].get_text() == nbb_unformatted_code) {\n",
       "                             nbb_cells[i].set_text(nbb_formatted_code);\n",
       "                        }\n",
       "                        break;\n",
       "                    }\n",
       "                }\n",
       "            }, 500);\n",
       "            "
      ],
      "text/plain": [
       "<IPython.core.display.Javascript object>"
      ]
     },
     "metadata": {},
     "output_type": "display_data"
    }
   ],
   "source": [
    "df = pd.DataFrame(\n",
    "    {\n",
    "        \"x\": positions[:, 0],\n",
    "        \"y\": positions[:, 1],\n",
    "        \"z\": positions[:, 2],\n",
    "        \"vx\": velocities[:, 0],\n",
    "        \"vy\": velocities[:, 1],\n",
    "        \"vz\": velocities[:, 2],\n",
    "    }\n",
    ")"
   ]
  },
  {
   "cell_type": "code",
   "execution_count": 17,
   "metadata": {},
   "outputs": [
    {
     "data": {
      "text/html": [
       "<div>\n",
       "<style scoped>\n",
       "    .dataframe tbody tr th:only-of-type {\n",
       "        vertical-align: middle;\n",
       "    }\n",
       "\n",
       "    .dataframe tbody tr th {\n",
       "        vertical-align: top;\n",
       "    }\n",
       "\n",
       "    .dataframe thead th {\n",
       "        text-align: right;\n",
       "    }\n",
       "</style>\n",
       "<table border=\"1\" class=\"dataframe\">\n",
       "  <thead>\n",
       "    <tr style=\"text-align: right;\">\n",
       "      <th></th>\n",
       "      <th>x</th>\n",
       "      <th>y</th>\n",
       "      <th>z</th>\n",
       "      <th>vx</th>\n",
       "      <th>vy</th>\n",
       "      <th>vz</th>\n",
       "    </tr>\n",
       "  </thead>\n",
       "  <tbody>\n",
       "    <tr>\n",
       "      <th>0</th>\n",
       "      <td>-0.48</td>\n",
       "      <td>-0.30</td>\n",
       "      <td>-9.75</td>\n",
       "      <td>-0.02</td>\n",
       "      <td>-1.61e-02</td>\n",
       "      <td>-0.55</td>\n",
       "    </tr>\n",
       "    <tr>\n",
       "      <th>1</th>\n",
       "      <td>0.13</td>\n",
       "      <td>-0.30</td>\n",
       "      <td>-9.75</td>\n",
       "      <td>0.01</td>\n",
       "      <td>-1.60e-02</td>\n",
       "      <td>-0.55</td>\n",
       "    </tr>\n",
       "    <tr>\n",
       "      <th>2</th>\n",
       "      <td>-0.48</td>\n",
       "      <td>0.07</td>\n",
       "      <td>-9.75</td>\n",
       "      <td>-0.02</td>\n",
       "      <td>6.37e-03</td>\n",
       "      <td>-0.55</td>\n",
       "    </tr>\n",
       "    <tr>\n",
       "      <th>3</th>\n",
       "      <td>0.13</td>\n",
       "      <td>0.07</td>\n",
       "      <td>-9.75</td>\n",
       "      <td>0.01</td>\n",
       "      <td>6.14e-03</td>\n",
       "      <td>-0.55</td>\n",
       "    </tr>\n",
       "    <tr>\n",
       "      <th>4</th>\n",
       "      <td>-0.48</td>\n",
       "      <td>0.44</td>\n",
       "      <td>-9.75</td>\n",
       "      <td>-0.02</td>\n",
       "      <td>2.70e-02</td>\n",
       "      <td>-0.54</td>\n",
       "    </tr>\n",
       "    <tr>\n",
       "      <th>...</th>\n",
       "      <td>...</td>\n",
       "      <td>...</td>\n",
       "      <td>...</td>\n",
       "      <td>...</td>\n",
       "      <td>...</td>\n",
       "      <td>...</td>\n",
       "    </tr>\n",
       "    <tr>\n",
       "      <th>99740</th>\n",
       "      <td>3.41</td>\n",
       "      <td>-1.00</td>\n",
       "      <td>5.16</td>\n",
       "      <td>471.58</td>\n",
       "      <td>-1.29e+02</td>\n",
       "      <td>798.59</td>\n",
       "    </tr>\n",
       "    <tr>\n",
       "      <th>99741</th>\n",
       "      <td>0.20</td>\n",
       "      <td>0.71</td>\n",
       "      <td>-1.08</td>\n",
       "      <td>10.65</td>\n",
       "      <td>-1.24e+02</td>\n",
       "      <td>8.84</td>\n",
       "    </tr>\n",
       "    <tr>\n",
       "      <th>99742</th>\n",
       "      <td>3.36</td>\n",
       "      <td>1.31</td>\n",
       "      <td>5.29</td>\n",
       "      <td>465.09</td>\n",
       "      <td>1.90e+02</td>\n",
       "      <td>819.28</td>\n",
       "    </tr>\n",
       "    <tr>\n",
       "      <th>99743</th>\n",
       "      <td>-0.22</td>\n",
       "      <td>3.70</td>\n",
       "      <td>7.12</td>\n",
       "      <td>30.25</td>\n",
       "      <td>4.91e+02</td>\n",
       "      <td>1119.42</td>\n",
       "    </tr>\n",
       "    <tr>\n",
       "      <th>99744</th>\n",
       "      <td>0.69</td>\n",
       "      <td>2.58</td>\n",
       "      <td>7.82</td>\n",
       "      <td>48.74</td>\n",
       "      <td>3.23e+02</td>\n",
       "      <td>1157.25</td>\n",
       "    </tr>\n",
       "  </tbody>\n",
       "</table>\n",
       "<p>99745 rows × 6 columns</p>\n",
       "</div>"
      ],
      "text/plain": [
       "          x     y     z      vx        vy       vz\n",
       "0     -0.48 -0.30 -9.75   -0.02 -1.61e-02    -0.55\n",
       "1      0.13 -0.30 -9.75    0.01 -1.60e-02    -0.55\n",
       "2     -0.48  0.07 -9.75   -0.02  6.37e-03    -0.55\n",
       "3      0.13  0.07 -9.75    0.01  6.14e-03    -0.55\n",
       "4     -0.48  0.44 -9.75   -0.02  2.70e-02    -0.54\n",
       "...     ...   ...   ...     ...       ...      ...\n",
       "99740  3.41 -1.00  5.16  471.58 -1.29e+02   798.59\n",
       "99741  0.20  0.71 -1.08   10.65 -1.24e+02     8.84\n",
       "99742  3.36  1.31  5.29  465.09  1.90e+02   819.28\n",
       "99743 -0.22  3.70  7.12   30.25  4.91e+02  1119.42\n",
       "99744  0.69  2.58  7.82   48.74  3.23e+02  1157.25\n",
       "\n",
       "[99745 rows x 6 columns]"
      ]
     },
     "execution_count": 17,
     "metadata": {},
     "output_type": "execute_result"
    },
    {
     "data": {
      "application/javascript": [
       "\n",
       "            setTimeout(function() {\n",
       "                var nbb_cell_id = 17;\n",
       "                var nbb_unformatted_code = \"df\";\n",
       "                var nbb_formatted_code = \"df\";\n",
       "                var nbb_cells = Jupyter.notebook.get_cells();\n",
       "                for (var i = 0; i < nbb_cells.length; ++i) {\n",
       "                    if (nbb_cells[i].input_prompt_number == nbb_cell_id) {\n",
       "                        if (nbb_cells[i].get_text() == nbb_unformatted_code) {\n",
       "                             nbb_cells[i].set_text(nbb_formatted_code);\n",
       "                        }\n",
       "                        break;\n",
       "                    }\n",
       "                }\n",
       "            }, 500);\n",
       "            "
      ],
      "text/plain": [
       "<IPython.core.display.Javascript object>"
      ]
     },
     "metadata": {},
     "output_type": "display_data"
    }
   ],
   "source": [
    "df"
   ]
  },
  {
   "cell_type": "markdown",
   "metadata": {},
   "source": [
    "## 2) Compute beta factor"
   ]
  },
  {
   "cell_type": "markdown",
   "metadata": {},
   "source": [
    "###  2.0) material properties"
   ]
  },
  {
   "cell_type": "code",
   "execution_count": 19,
   "metadata": {},
   "outputs": [
    {
     "data": {
      "application/javascript": [
       "\n",
       "            setTimeout(function() {\n",
       "                var nbb_cell_id = 19;\n",
       "                var nbb_unformatted_code = \"M = 3 * 10 ** 9\\nr_surface = 80\\nG = scipy.constants.G\";\n",
       "                var nbb_formatted_code = \"M = 3 * 10 ** 9\\nr_surface = 80\\nG = scipy.constants.G\";\n",
       "                var nbb_cells = Jupyter.notebook.get_cells();\n",
       "                for (var i = 0; i < nbb_cells.length; ++i) {\n",
       "                    if (nbb_cells[i].input_prompt_number == nbb_cell_id) {\n",
       "                        if (nbb_cells[i].get_text() == nbb_unformatted_code) {\n",
       "                             nbb_cells[i].set_text(nbb_formatted_code);\n",
       "                        }\n",
       "                        break;\n",
       "                    }\n",
       "                }\n",
       "            }, 500);\n",
       "            "
      ],
      "text/plain": [
       "<IPython.core.display.Javascript object>"
      ]
     },
     "metadata": {},
     "output_type": "display_data"
    }
   ],
   "source": [
    "M = 3 * 10 ** 9\n",
    "r_surface = 80\n",
    "G = scipy.constants.G"
   ]
  },
  {
   "cell_type": "markdown",
   "metadata": {},
   "source": [
    "### 2.1) Find particles with vz > 0 above escape velocity"
   ]
  },
  {
   "cell_type": "code",
   "execution_count": 20,
   "metadata": {},
   "outputs": [
    {
     "data": {
      "application/javascript": [
       "\n",
       "            setTimeout(function() {\n",
       "                var nbb_cell_id = 20;\n",
       "                var nbb_unformatted_code = \"df[\\\"escape\\\"] = 0.5 * (\\n    df.vx.values ** 2 + df.vy.values ** 2 + df.vz.values ** 2\\n) - G * M / (r_surface + df.z.values)\";\n",
       "                var nbb_formatted_code = \"df[\\\"escape\\\"] = 0.5 * (\\n    df.vx.values ** 2 + df.vy.values ** 2 + df.vz.values ** 2\\n) - G * M / (r_surface + df.z.values)\";\n",
       "                var nbb_cells = Jupyter.notebook.get_cells();\n",
       "                for (var i = 0; i < nbb_cells.length; ++i) {\n",
       "                    if (nbb_cells[i].input_prompt_number == nbb_cell_id) {\n",
       "                        if (nbb_cells[i].get_text() == nbb_unformatted_code) {\n",
       "                             nbb_cells[i].set_text(nbb_formatted_code);\n",
       "                        }\n",
       "                        break;\n",
       "                    }\n",
       "                }\n",
       "            }, 500);\n",
       "            "
      ],
      "text/plain": [
       "<IPython.core.display.Javascript object>"
      ]
     },
     "metadata": {},
     "output_type": "display_data"
    }
   ],
   "source": [
    "df[\"escape\"] = 0.5 * (\n",
    "    df.vx.values ** 2 + df.vy.values ** 2 + df.vz.values ** 2\n",
    ") - G * M / (r_surface + df.z.values)"
   ]
  },
  {
   "cell_type": "code",
   "execution_count": 40,
   "metadata": {},
   "outputs": [
    {
     "data": {
      "text/html": [
       "<div>\n",
       "<style scoped>\n",
       "    .dataframe tbody tr th:only-of-type {\n",
       "        vertical-align: middle;\n",
       "    }\n",
       "\n",
       "    .dataframe tbody tr th {\n",
       "        vertical-align: top;\n",
       "    }\n",
       "\n",
       "    .dataframe thead th {\n",
       "        text-align: right;\n",
       "    }\n",
       "</style>\n",
       "<table border=\"1\" class=\"dataframe\">\n",
       "  <thead>\n",
       "    <tr style=\"text-align: right;\">\n",
       "      <th></th>\n",
       "      <th>x</th>\n",
       "      <th>y</th>\n",
       "      <th>z</th>\n",
       "      <th>vx</th>\n",
       "      <th>vy</th>\n",
       "      <th>vz</th>\n",
       "      <th>escape</th>\n",
       "    </tr>\n",
       "  </thead>\n",
       "  <tbody>\n",
       "    <tr>\n",
       "      <th>25801</th>\n",
       "      <td>-2.00</td>\n",
       "      <td>-8.84</td>\n",
       "      <td>-3.48</td>\n",
       "      <td>-7.38e-02</td>\n",
       "      <td>-0.34</td>\n",
       "      <td>5.48e-03</td>\n",
       "      <td>0.06</td>\n",
       "    </tr>\n",
       "    <tr>\n",
       "      <th>25802</th>\n",
       "      <td>-1.39</td>\n",
       "      <td>-8.84</td>\n",
       "      <td>-3.48</td>\n",
       "      <td>-5.23e-02</td>\n",
       "      <td>-0.36</td>\n",
       "      <td>7.23e-03</td>\n",
       "      <td>0.06</td>\n",
       "    </tr>\n",
       "    <tr>\n",
       "      <th>25803</th>\n",
       "      <td>-0.78</td>\n",
       "      <td>-8.84</td>\n",
       "      <td>-3.48</td>\n",
       "      <td>-2.79e-02</td>\n",
       "      <td>-0.37</td>\n",
       "      <td>6.78e-03</td>\n",
       "      <td>0.07</td>\n",
       "    </tr>\n",
       "    <tr>\n",
       "      <th>25804</th>\n",
       "      <td>-0.18</td>\n",
       "      <td>-8.84</td>\n",
       "      <td>-3.48</td>\n",
       "      <td>-2.99e-03</td>\n",
       "      <td>-0.38</td>\n",
       "      <td>6.51e-03</td>\n",
       "      <td>0.07</td>\n",
       "    </tr>\n",
       "    <tr>\n",
       "      <th>25805</th>\n",
       "      <td>0.43</td>\n",
       "      <td>-8.84</td>\n",
       "      <td>-3.48</td>\n",
       "      <td>2.41e-02</td>\n",
       "      <td>-0.37</td>\n",
       "      <td>6.87e-03</td>\n",
       "      <td>0.07</td>\n",
       "    </tr>\n",
       "    <tr>\n",
       "      <th>...</th>\n",
       "      <td>...</td>\n",
       "      <td>...</td>\n",
       "      <td>...</td>\n",
       "      <td>...</td>\n",
       "      <td>...</td>\n",
       "      <td>...</td>\n",
       "      <td>...</td>\n",
       "    </tr>\n",
       "    <tr>\n",
       "      <th>99740</th>\n",
       "      <td>3.41</td>\n",
       "      <td>-1.00</td>\n",
       "      <td>5.16</td>\n",
       "      <td>4.72e+02</td>\n",
       "      <td>-128.63</td>\n",
       "      <td>7.99e+02</td>\n",
       "      <td>438343.30</td>\n",
       "    </tr>\n",
       "    <tr>\n",
       "      <th>99741</th>\n",
       "      <td>0.20</td>\n",
       "      <td>0.71</td>\n",
       "      <td>-1.08</td>\n",
       "      <td>1.07e+01</td>\n",
       "      <td>-123.85</td>\n",
       "      <td>8.84e+00</td>\n",
       "      <td>7764.72</td>\n",
       "    </tr>\n",
       "    <tr>\n",
       "      <th>99742</th>\n",
       "      <td>3.36</td>\n",
       "      <td>1.31</td>\n",
       "      <td>5.29</td>\n",
       "      <td>4.65e+02</td>\n",
       "      <td>189.76</td>\n",
       "      <td>8.19e+02</td>\n",
       "      <td>461771.88</td>\n",
       "    </tr>\n",
       "    <tr>\n",
       "      <th>99743</th>\n",
       "      <td>-0.22</td>\n",
       "      <td>3.70</td>\n",
       "      <td>7.12</td>\n",
       "      <td>3.03e+01</td>\n",
       "      <td>490.92</td>\n",
       "      <td>1.12e+03</td>\n",
       "      <td>747505.30</td>\n",
       "    </tr>\n",
       "    <tr>\n",
       "      <th>99744</th>\n",
       "      <td>0.69</td>\n",
       "      <td>2.58</td>\n",
       "      <td>7.82</td>\n",
       "      <td>4.87e+01</td>\n",
       "      <td>323.16</td>\n",
       "      <td>1.16e+03</td>\n",
       "      <td>723020.61</td>\n",
       "    </tr>\n",
       "  </tbody>\n",
       "</table>\n",
       "<p>29967 rows × 7 columns</p>\n",
       "</div>"
      ],
      "text/plain": [
       "          x     y     z        vx      vy        vz     escape\n",
       "25801 -2.00 -8.84 -3.48 -7.38e-02   -0.34  5.48e-03       0.06\n",
       "25802 -1.39 -8.84 -3.48 -5.23e-02   -0.36  7.23e-03       0.06\n",
       "25803 -0.78 -8.84 -3.48 -2.79e-02   -0.37  6.78e-03       0.07\n",
       "25804 -0.18 -8.84 -3.48 -2.99e-03   -0.38  6.51e-03       0.07\n",
       "25805  0.43 -8.84 -3.48  2.41e-02   -0.37  6.87e-03       0.07\n",
       "...     ...   ...   ...       ...     ...       ...        ...\n",
       "99740  3.41 -1.00  5.16  4.72e+02 -128.63  7.99e+02  438343.30\n",
       "99741  0.20  0.71 -1.08  1.07e+01 -123.85  8.84e+00    7764.72\n",
       "99742  3.36  1.31  5.29  4.65e+02  189.76  8.19e+02  461771.88\n",
       "99743 -0.22  3.70  7.12  3.03e+01  490.92  1.12e+03  747505.30\n",
       "99744  0.69  2.58  7.82  4.87e+01  323.16  1.16e+03  723020.61\n",
       "\n",
       "[29967 rows x 7 columns]"
      ]
     },
     "execution_count": 40,
     "metadata": {},
     "output_type": "execute_result"
    },
    {
     "data": {
      "application/javascript": [
       "\n",
       "            setTimeout(function() {\n",
       "                var nbb_cell_id = 40;\n",
       "                var nbb_unformatted_code = \"df[(df.vz > 0)&(df.escape > 0) ]\";\n",
       "                var nbb_formatted_code = \"df[(df.vz > 0) & (df.escape > 0)]\";\n",
       "                var nbb_cells = Jupyter.notebook.get_cells();\n",
       "                for (var i = 0; i < nbb_cells.length; ++i) {\n",
       "                    if (nbb_cells[i].input_prompt_number == nbb_cell_id) {\n",
       "                        if (nbb_cells[i].get_text() == nbb_unformatted_code) {\n",
       "                             nbb_cells[i].set_text(nbb_formatted_code);\n",
       "                        }\n",
       "                        break;\n",
       "                    }\n",
       "                }\n",
       "            }, 500);\n",
       "            "
      ],
      "text/plain": [
       "<IPython.core.display.Javascript object>"
      ]
     },
     "metadata": {},
     "output_type": "display_data"
    }
   ],
   "source": [
    "df[(df.vz > 0) & (df.escape > 0)]"
   ]
  },
  {
   "cell_type": "code",
   "execution_count": null,
   "metadata": {},
   "outputs": [],
   "source": []
  }
 ],
 "metadata": {
  "kernelspec": {
   "display_name": "Python 3",
   "language": "python",
   "name": "python3"
  },
  "language_info": {
   "codemirror_mode": {
    "name": "ipython",
    "version": 3
   },
   "file_extension": ".py",
   "mimetype": "text/x-python",
   "name": "python",
   "nbconvert_exporter": "python",
   "pygments_lexer": "ipython3",
   "version": "3.7.4"
  }
 },
 "nbformat": 4,
 "nbformat_minor": 4
}
