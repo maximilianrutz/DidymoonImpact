{
 "cells": [
  {
   "cell_type": "markdown",
   "metadata": {
    "slideshow": {
     "slide_type": "slide"
    }
   },
   "source": [
    "# <center>Analysis of DART impact simulations</center>"
   ]
  },
  {
   "cell_type": "markdown",
   "metadata": {},
   "source": [
    "## 0) Imports"
   ]
  },
  {
   "cell_type": "code",
   "execution_count": 1,
   "metadata": {},
   "outputs": [
    {
     "data": {
      "application/javascript": [
       "\n",
       "            setTimeout(function() {\n",
       "                var nbb_cell_id = 1;\n",
       "                var nbb_unformatted_code = \"import numpy as np\\nfrom matplotlib import pyplot as plt\\nimport pandas as pd\\nimport h5py\\n\\n%load_ext nb_black\\n%matplotlib inline\\nplt.rcParams[\\\"figure.figsize\\\"] = (15, 10)\\npd.set_option(\\\"display.precision\\\", 2)\";\n",
       "                var nbb_formatted_code = \"import numpy as np\\nfrom matplotlib import pyplot as plt\\nimport pandas as pd\\nimport h5py\\n\\n%load_ext nb_black\\n%matplotlib inline\\nplt.rcParams[\\\"figure.figsize\\\"] = (15, 10)\\npd.set_option(\\\"display.precision\\\", 2)\";\n",
       "                var nbb_cells = Jupyter.notebook.get_cells();\n",
       "                for (var i = 0; i < nbb_cells.length; ++i) {\n",
       "                    if (nbb_cells[i].input_prompt_number == nbb_cell_id) {\n",
       "                        if (nbb_cells[i].get_text() == nbb_unformatted_code) {\n",
       "                             nbb_cells[i].set_text(nbb_formatted_code);\n",
       "                        }\n",
       "                        break;\n",
       "                    }\n",
       "                }\n",
       "            }, 500);\n",
       "            "
      ],
      "text/plain": [
       "<IPython.core.display.Javascript object>"
      ]
     },
     "metadata": {},
     "output_type": "display_data"
    }
   ],
   "source": [
    "import numpy as np\n",
    "from matplotlib import pyplot as plt\n",
    "import pandas as pd\n",
    "import h5py\n",
    "\n",
    "%load_ext nb_black\n",
    "%matplotlib inline\n",
    "plt.rcParams[\"figure.figsize\"] = (15, 10)\n",
    "pd.set_option(\"display.precision\", 2)"
   ]
  },
  {
   "cell_type": "markdown",
   "metadata": {},
   "source": [
    "## 1) Load simulation data:"
   ]
  },
  {
   "cell_type": "code",
   "execution_count": 2,
   "metadata": {},
   "outputs": [
    {
     "data": {
      "application/javascript": [
       "\n",
       "            setTimeout(function() {\n",
       "                var nbb_cell_id = 2;\n",
       "                var nbb_unformatted_code = \"file = \\\"/scratch/rutz/DidymoonImpact/data/noporous/impact_noporous.0300.h5\\\"\";\n",
       "                var nbb_formatted_code = \"file = \\\"/scratch/rutz/DidymoonImpact/data/noporous/impact_noporous.0300.h5\\\"\";\n",
       "                var nbb_cells = Jupyter.notebook.get_cells();\n",
       "                for (var i = 0; i < nbb_cells.length; ++i) {\n",
       "                    if (nbb_cells[i].input_prompt_number == nbb_cell_id) {\n",
       "                        if (nbb_cells[i].get_text() == nbb_unformatted_code) {\n",
       "                             nbb_cells[i].set_text(nbb_formatted_code);\n",
       "                        }\n",
       "                        break;\n",
       "                    }\n",
       "                }\n",
       "            }, 500);\n",
       "            "
      ],
      "text/plain": [
       "<IPython.core.display.Javascript object>"
      ]
     },
     "metadata": {},
     "output_type": "display_data"
    }
   ],
   "source": [
    "file = \"/scratch/rutz/DidymoonImpact/data/noporous/impact_noporous.0300.h5\""
   ]
  },
  {
   "cell_type": "code",
   "execution_count": 23,
   "metadata": {},
   "outputs": [
    {
     "data": {
      "text/plain": [
       "['DIM_root_of_damage_tensile',\n",
       " 'a',\n",
       " 'a_grav',\n",
       " 'activation_thresholds',\n",
       " 'dddt',\n",
       " 'ddeviatoric_stress_dt',\n",
       " 'dedt',\n",
       " 'deviatoric_stress',\n",
       " 'drhodt',\n",
       " 'e',\n",
       " 'local_strain',\n",
       " 'm',\n",
       " 'material_type',\n",
       " 'maximum_number_of_flaws',\n",
       " 'number_of_activated_flaws',\n",
       " 'number_of_interactions',\n",
       " 'p',\n",
       " 'rho',\n",
       " 'sml',\n",
       " 'sml_initial',\n",
       " 'soundspeed',\n",
       " 'time',\n",
       " 'tree_depth',\n",
       " 'v',\n",
       " 'x']"
      ]
     },
     "execution_count": 23,
     "metadata": {},
     "output_type": "execute_result"
    },
    {
     "data": {
      "application/javascript": [
       "\n",
       "            setTimeout(function() {\n",
       "                var nbb_cell_id = 23;\n",
       "                var nbb_unformatted_code = \"with h5py.File(file, \\\"r\\\") as hdf:\\n    keys = list(hdf.keys())\\n\\nkeys\";\n",
       "                var nbb_formatted_code = \"with h5py.File(file, \\\"r\\\") as hdf:\\n    keys = list(hdf.keys())\\n\\nkeys\";\n",
       "                var nbb_cells = Jupyter.notebook.get_cells();\n",
       "                for (var i = 0; i < nbb_cells.length; ++i) {\n",
       "                    if (nbb_cells[i].input_prompt_number == nbb_cell_id) {\n",
       "                        if (nbb_cells[i].get_text() == nbb_unformatted_code) {\n",
       "                             nbb_cells[i].set_text(nbb_formatted_code);\n",
       "                        }\n",
       "                        break;\n",
       "                    }\n",
       "                }\n",
       "            }, 500);\n",
       "            "
      ],
      "text/plain": [
       "<IPython.core.display.Javascript object>"
      ]
     },
     "metadata": {},
     "output_type": "display_data"
    }
   ],
   "source": [
    "with h5py.File(file, \"r\") as hdf:\n",
    "    keys = list(hdf.keys())\n",
    "\n",
    "keys"
   ]
  },
  {
   "cell_type": "code",
   "execution_count": 28,
   "metadata": {},
   "outputs": [
    {
     "data": {
      "text/html": [
       "<div>\n",
       "<style scoped>\n",
       "    .dataframe tbody tr th:only-of-type {\n",
       "        vertical-align: middle;\n",
       "    }\n",
       "\n",
       "    .dataframe tbody tr th {\n",
       "        vertical-align: top;\n",
       "    }\n",
       "\n",
       "    .dataframe thead th {\n",
       "        text-align: right;\n",
       "    }\n",
       "</style>\n",
       "<table border=\"1\" class=\"dataframe\">\n",
       "  <thead>\n",
       "    <tr style=\"text-align: right;\">\n",
       "      <th></th>\n",
       "      <th>x</th>\n",
       "      <th>y</th>\n",
       "      <th>z</th>\n",
       "      <th>v_x</th>\n",
       "      <th>v_y</th>\n",
       "      <th>v_z</th>\n",
       "      <th>m</th>\n",
       "      <th>mat</th>\n",
       "      <th>v_abs</th>\n",
       "    </tr>\n",
       "  </thead>\n",
       "  <tbody>\n",
       "    <tr>\n",
       "      <th>0</th>\n",
       "      <td>1.52</td>\n",
       "      <td>-0.82</td>\n",
       "      <td>-2.00</td>\n",
       "      <td>12.75</td>\n",
       "      <td>-8.02</td>\n",
       "      <td>-6.62</td>\n",
       "      <td>12.78</td>\n",
       "      <td>0</td>\n",
       "      <td>16.46</td>\n",
       "    </tr>\n",
       "    <tr>\n",
       "      <th>1</th>\n",
       "      <td>1.16</td>\n",
       "      <td>-1.26</td>\n",
       "      <td>-2.07</td>\n",
       "      <td>9.79</td>\n",
       "      <td>-10.73</td>\n",
       "      <td>-6.34</td>\n",
       "      <td>12.78</td>\n",
       "      <td>0</td>\n",
       "      <td>15.85</td>\n",
       "    </tr>\n",
       "    <tr>\n",
       "      <th>2</th>\n",
       "      <td>0.61</td>\n",
       "      <td>-0.99</td>\n",
       "      <td>-2.74</td>\n",
       "      <td>8.56</td>\n",
       "      <td>-7.80</td>\n",
       "      <td>-14.19</td>\n",
       "      <td>12.78</td>\n",
       "      <td>0</td>\n",
       "      <td>18.32</td>\n",
       "    </tr>\n",
       "    <tr>\n",
       "      <th>3</th>\n",
       "      <td>-0.43</td>\n",
       "      <td>-1.10</td>\n",
       "      <td>-2.61</td>\n",
       "      <td>-1.07</td>\n",
       "      <td>-7.99</td>\n",
       "      <td>-15.16</td>\n",
       "      <td>12.78</td>\n",
       "      <td>0</td>\n",
       "      <td>17.17</td>\n",
       "    </tr>\n",
       "    <tr>\n",
       "      <th>4</th>\n",
       "      <td>1.72</td>\n",
       "      <td>-0.60</td>\n",
       "      <td>-1.93</td>\n",
       "      <td>13.58</td>\n",
       "      <td>-6.21</td>\n",
       "      <td>-2.98</td>\n",
       "      <td>12.91</td>\n",
       "      <td>0</td>\n",
       "      <td>15.22</td>\n",
       "    </tr>\n",
       "    <tr>\n",
       "      <th>...</th>\n",
       "      <td>...</td>\n",
       "      <td>...</td>\n",
       "      <td>...</td>\n",
       "      <td>...</td>\n",
       "      <td>...</td>\n",
       "      <td>...</td>\n",
       "      <td>...</td>\n",
       "      <td>...</td>\n",
       "      <td>...</td>\n",
       "    </tr>\n",
       "    <tr>\n",
       "      <th>110190</th>\n",
       "      <td>-19.49</td>\n",
       "      <td>-2.41</td>\n",
       "      <td>-0.08</td>\n",
       "      <td>-1.34</td>\n",
       "      <td>-0.15</td>\n",
       "      <td>-0.23</td>\n",
       "      <td>1404.09</td>\n",
       "      <td>1</td>\n",
       "      <td>1.36</td>\n",
       "    </tr>\n",
       "    <tr>\n",
       "      <th>110191</th>\n",
       "      <td>-19.56</td>\n",
       "      <td>-1.66</td>\n",
       "      <td>-0.33</td>\n",
       "      <td>-1.23</td>\n",
       "      <td>-0.11</td>\n",
       "      <td>-0.20</td>\n",
       "      <td>1404.09</td>\n",
       "      <td>1</td>\n",
       "      <td>1.25</td>\n",
       "    </tr>\n",
       "    <tr>\n",
       "      <th>110192</th>\n",
       "      <td>-19.61</td>\n",
       "      <td>-0.87</td>\n",
       "      <td>-0.39</td>\n",
       "      <td>-1.26</td>\n",
       "      <td>-0.09</td>\n",
       "      <td>-0.21</td>\n",
       "      <td>1404.09</td>\n",
       "      <td>1</td>\n",
       "      <td>1.28</td>\n",
       "    </tr>\n",
       "    <tr>\n",
       "      <th>110193</th>\n",
       "      <td>-19.63</td>\n",
       "      <td>-0.09</td>\n",
       "      <td>-0.26</td>\n",
       "      <td>-1.30</td>\n",
       "      <td>-0.04</td>\n",
       "      <td>-0.22</td>\n",
       "      <td>1404.09</td>\n",
       "      <td>1</td>\n",
       "      <td>1.32</td>\n",
       "    </tr>\n",
       "    <tr>\n",
       "      <th>110194</th>\n",
       "      <td>19.39</td>\n",
       "      <td>1.00</td>\n",
       "      <td>-2.89</td>\n",
       "      <td>0.89</td>\n",
       "      <td>0.04</td>\n",
       "      <td>-0.12</td>\n",
       "      <td>1404.09</td>\n",
       "      <td>1</td>\n",
       "      <td>0.90</td>\n",
       "    </tr>\n",
       "  </tbody>\n",
       "</table>\n",
       "<p>110195 rows × 9 columns</p>\n",
       "</div>"
      ],
      "text/plain": [
       "            x     y     z    v_x    v_y    v_z        m  mat  v_abs\n",
       "0        1.52 -0.82 -2.00  12.75  -8.02  -6.62    12.78    0  16.46\n",
       "1        1.16 -1.26 -2.07   9.79 -10.73  -6.34    12.78    0  15.85\n",
       "2        0.61 -0.99 -2.74   8.56  -7.80 -14.19    12.78    0  18.32\n",
       "3       -0.43 -1.10 -2.61  -1.07  -7.99 -15.16    12.78    0  17.17\n",
       "4        1.72 -0.60 -1.93  13.58  -6.21  -2.98    12.91    0  15.22\n",
       "...       ...   ...   ...    ...    ...    ...      ...  ...    ...\n",
       "110190 -19.49 -2.41 -0.08  -1.34  -0.15  -0.23  1404.09    1   1.36\n",
       "110191 -19.56 -1.66 -0.33  -1.23  -0.11  -0.20  1404.09    1   1.25\n",
       "110192 -19.61 -0.87 -0.39  -1.26  -0.09  -0.21  1404.09    1   1.28\n",
       "110193 -19.63 -0.09 -0.26  -1.30  -0.04  -0.22  1404.09    1   1.32\n",
       "110194  19.39  1.00 -2.89   0.89   0.04  -0.12  1404.09    1   0.90\n",
       "\n",
       "[110195 rows x 9 columns]"
      ]
     },
     "execution_count": 28,
     "metadata": {},
     "output_type": "execute_result"
    },
    {
     "data": {
      "application/javascript": [
       "\n",
       "            setTimeout(function() {\n",
       "                var nbb_cell_id = 28;\n",
       "                var nbb_unformatted_code = \"with h5py.File(file, \\\"r\\\") as hdf:\\n    df = pd.DataFrame(\\n        {\\n            \\\"x\\\": hdf.get(\\\"x\\\")[:, 0],\\n            \\\"y\\\": hdf.get(\\\"x\\\")[:, 1],\\n            \\\"z\\\": hdf.get(\\\"x\\\")[:, 2],\\n            \\\"v_x\\\": hdf.get(\\\"v\\\")[:, 0],\\n            \\\"v_y\\\": hdf.get(\\\"v\\\")[:, 1],\\n            \\\"v_z\\\": hdf.get(\\\"v\\\")[:, 2],\\n            \\\"m\\\": hdf.get(\\\"m\\\"),\\n            \\\"mat\\\": hdf.get(\\\"material_type\\\"),\\n        }\\n    )\\n    df[\\\"v_abs\\\"] = np.sqrt(df[\\\"v_x\\\"]**2 + df[\\\"v_y\\\"]**2 + df[\\\"v_z\\\"]**2)\\n\\ndf\";\n",
       "                var nbb_formatted_code = \"with h5py.File(file, \\\"r\\\") as hdf:\\n    df = pd.DataFrame(\\n        {\\n            \\\"x\\\": hdf.get(\\\"x\\\")[:, 0],\\n            \\\"y\\\": hdf.get(\\\"x\\\")[:, 1],\\n            \\\"z\\\": hdf.get(\\\"x\\\")[:, 2],\\n            \\\"v_x\\\": hdf.get(\\\"v\\\")[:, 0],\\n            \\\"v_y\\\": hdf.get(\\\"v\\\")[:, 1],\\n            \\\"v_z\\\": hdf.get(\\\"v\\\")[:, 2],\\n            \\\"m\\\": hdf.get(\\\"m\\\"),\\n            \\\"mat\\\": hdf.get(\\\"material_type\\\"),\\n        }\\n    )\\n    df[\\\"v_abs\\\"] = np.sqrt(df[\\\"v_x\\\"] ** 2 + df[\\\"v_y\\\"] ** 2 + df[\\\"v_z\\\"] ** 2)\\n\\ndf\";\n",
       "                var nbb_cells = Jupyter.notebook.get_cells();\n",
       "                for (var i = 0; i < nbb_cells.length; ++i) {\n",
       "                    if (nbb_cells[i].input_prompt_number == nbb_cell_id) {\n",
       "                        if (nbb_cells[i].get_text() == nbb_unformatted_code) {\n",
       "                             nbb_cells[i].set_text(nbb_formatted_code);\n",
       "                        }\n",
       "                        break;\n",
       "                    }\n",
       "                }\n",
       "            }, 500);\n",
       "            "
      ],
      "text/plain": [
       "<IPython.core.display.Javascript object>"
      ]
     },
     "metadata": {},
     "output_type": "display_data"
    }
   ],
   "source": [
    "with h5py.File(file, \"r\") as hdf:\n",
    "    df = pd.DataFrame(\n",
    "        {\n",
    "            \"x\": hdf.get(\"x\")[:, 0],\n",
    "            \"y\": hdf.get(\"x\")[:, 1],\n",
    "            \"z\": hdf.get(\"x\")[:, 2],\n",
    "            \"v_x\": hdf.get(\"v\")[:, 0],\n",
    "            \"v_y\": hdf.get(\"v\")[:, 1],\n",
    "            \"v_z\": hdf.get(\"v\")[:, 2],\n",
    "            \"m\": hdf.get(\"m\"),\n",
    "            \"mat\": hdf.get(\"material_type\"),\n",
    "        }\n",
    "    )\n",
    "    df[\"v_abs\"] = np.sqrt(df[\"v_x\"] ** 2 + df[\"v_y\"] ** 2 + df[\"v_z\"] ** 2)\n",
    "\n",
    "df"
   ]
  },
  {
   "cell_type": "markdown",
   "metadata": {},
   "source": [
    "## 2) Beta factor"
   ]
  },
  {
   "cell_type": "markdown",
   "metadata": {},
   "source": [
    "###  2.0) Physical parameters"
   ]
  },
  {
   "cell_type": "code",
   "execution_count": 141,
   "metadata": {},
   "outputs": [
    {
     "data": {
      "application/javascript": [
       "\n",
       "            setTimeout(function() {\n",
       "                var nbb_cell_id = 141;\n",
       "                var nbb_unformatted_code = \"rho_didymoon = 2860.0\\nr_surface = 75\\nM = 4 / 3 * np.pi * r_surface ** 3 * rho_didymoon\\nG = 6.6743e-11\";\n",
       "                var nbb_formatted_code = \"rho_didymoon = 2860.0\\nr_surface = 75\\nM = 4 / 3 * np.pi * r_surface ** 3 * rho_didymoon\\nG = 6.6743e-11\";\n",
       "                var nbb_cells = Jupyter.notebook.get_cells();\n",
       "                for (var i = 0; i < nbb_cells.length; ++i) {\n",
       "                    if (nbb_cells[i].input_prompt_number == nbb_cell_id) {\n",
       "                        if (nbb_cells[i].get_text() == nbb_unformatted_code) {\n",
       "                             nbb_cells[i].set_text(nbb_formatted_code);\n",
       "                        }\n",
       "                        break;\n",
       "                    }\n",
       "                }\n",
       "            }, 500);\n",
       "            "
      ],
      "text/plain": [
       "<IPython.core.display.Javascript object>"
      ]
     },
     "metadata": {},
     "output_type": "display_data"
    }
   ],
   "source": [
    "rho_didymoon = 2860.0\n",
    "r_surface = 75\n",
    "M = 4 / 3 * np.pi * r_surface ** 3 * rho_didymoon\n",
    "G = 6.6743e-11"
   ]
  },
  {
   "cell_type": "code",
   "execution_count": 142,
   "metadata": {},
   "outputs": [
    {
     "data": {
      "application/javascript": [
       "\n",
       "            setTimeout(function() {\n",
       "                var nbb_cell_id = 142;\n",
       "                var nbb_unformatted_code = \"impactor_momentum = (df.loc[df[\\\"mat\\\"] == 0][\\\"m\\\"] * 6000).sum()\";\n",
       "                var nbb_formatted_code = \"impactor_momentum = (df.loc[df[\\\"mat\\\"] == 0][\\\"m\\\"] * 6000).sum()\";\n",
       "                var nbb_cells = Jupyter.notebook.get_cells();\n",
       "                for (var i = 0; i < nbb_cells.length; ++i) {\n",
       "                    if (nbb_cells[i].input_prompt_number == nbb_cell_id) {\n",
       "                        if (nbb_cells[i].get_text() == nbb_unformatted_code) {\n",
       "                             nbb_cells[i].set_text(nbb_formatted_code);\n",
       "                        }\n",
       "                        break;\n",
       "                    }\n",
       "                }\n",
       "            }, 500);\n",
       "            "
      ],
      "text/plain": [
       "<IPython.core.display.Javascript object>"
      ]
     },
     "metadata": {},
     "output_type": "display_data"
    }
   ],
   "source": [
    "impactor_momentum = (df.loc[df[\"mat\"] == 0][\"m\"] * 6000).sum()"
   ]
  },
  {
   "cell_type": "markdown",
   "metadata": {},
   "source": [
    "### 2.1) Escape velocity"
   ]
  },
  {
   "cell_type": "code",
   "execution_count": 143,
   "metadata": {},
   "outputs": [
    {
     "data": {
      "application/javascript": [
       "\n",
       "            setTimeout(function() {\n",
       "                var nbb_cell_id = 143;\n",
       "                var nbb_unformatted_code = \"df[\\\"v_escape\\\"] = np.sqrt(2 * G * M / (r_surface + df.z))\";\n",
       "                var nbb_formatted_code = \"df[\\\"v_escape\\\"] = np.sqrt(2 * G * M / (r_surface + df.z))\";\n",
       "                var nbb_cells = Jupyter.notebook.get_cells();\n",
       "                for (var i = 0; i < nbb_cells.length; ++i) {\n",
       "                    if (nbb_cells[i].input_prompt_number == nbb_cell_id) {\n",
       "                        if (nbb_cells[i].get_text() == nbb_unformatted_code) {\n",
       "                             nbb_cells[i].set_text(nbb_formatted_code);\n",
       "                        }\n",
       "                        break;\n",
       "                    }\n",
       "                }\n",
       "            }, 500);\n",
       "            "
      ],
      "text/plain": [
       "<IPython.core.display.Javascript object>"
      ]
     },
     "metadata": {},
     "output_type": "display_data"
    }
   ],
   "source": [
    "df[\"v_escape\"] = np.sqrt(2 * G * M / (r_surface + df.z))"
   ]
  },
  {
   "cell_type": "markdown",
   "metadata": {},
   "source": [
    "### 2.2) Conditions for particles to be ejecta"
   ]
  },
  {
   "cell_type": "code",
   "execution_count": 144,
   "metadata": {},
   "outputs": [
    {
     "name": "stdout",
     "output_type": "stream",
     "text": [
      "Number of ejecta particles: 2193\n"
     ]
    },
    {
     "data": {
      "application/javascript": [
       "\n",
       "            setTimeout(function() {\n",
       "                var nbb_cell_id = 144;\n",
       "                var nbb_unformatted_code = \"filt_beta = (df[\\\"z\\\"] > 0) & (df[\\\"v_z\\\"] > 0) & (df[\\\"v_abs\\\"] > df[\\\"v_escape\\\"])\\ndf_beta = df[filt_beta]\\nprint(f\\\"Number of ejecta particles: {filt_beta.sum()}\\\")\";\n",
       "                var nbb_formatted_code = \"filt_beta = (df[\\\"z\\\"] > 0) & (df[\\\"v_z\\\"] > 0) & (df[\\\"v_abs\\\"] > df[\\\"v_escape\\\"])\\ndf_beta = df[filt_beta]\\nprint(f\\\"Number of ejecta particles: {filt_beta.sum()}\\\")\";\n",
       "                var nbb_cells = Jupyter.notebook.get_cells();\n",
       "                for (var i = 0; i < nbb_cells.length; ++i) {\n",
       "                    if (nbb_cells[i].input_prompt_number == nbb_cell_id) {\n",
       "                        if (nbb_cells[i].get_text() == nbb_unformatted_code) {\n",
       "                             nbb_cells[i].set_text(nbb_formatted_code);\n",
       "                        }\n",
       "                        break;\n",
       "                    }\n",
       "                }\n",
       "            }, 500);\n",
       "            "
      ],
      "text/plain": [
       "<IPython.core.display.Javascript object>"
      ]
     },
     "metadata": {},
     "output_type": "display_data"
    }
   ],
   "source": [
    "filt_beta = (df[\"z\"] > 0) & (df[\"v_z\"] > 0) & (df[\"v_abs\"] > df[\"v_escape\"])\n",
    "df_beta = df[filt_beta]\n",
    "print(f\"Number of ejecta particles: {filt_beta.sum()}\")"
   ]
  },
  {
   "cell_type": "markdown",
   "metadata": {
    "slideshow": {
     "slide_type": "slide"
    }
   },
   "source": [
    "### 2.3) Compute beta factor"
   ]
  },
  {
   "cell_type": "code",
   "execution_count": 145,
   "metadata": {},
   "outputs": [
    {
     "data": {
      "application/javascript": [
       "\n",
       "            setTimeout(function() {\n",
       "                var nbb_cell_id = 145;\n",
       "                var nbb_unformatted_code = \"recoil_momentum = (df[filt_beta][\\\"m\\\"] * df[filt_beta][\\\"v_z\\\"]).sum()\";\n",
       "                var nbb_formatted_code = \"recoil_momentum = (df[filt_beta][\\\"m\\\"] * df[filt_beta][\\\"v_z\\\"]).sum()\";\n",
       "                var nbb_cells = Jupyter.notebook.get_cells();\n",
       "                for (var i = 0; i < nbb_cells.length; ++i) {\n",
       "                    if (nbb_cells[i].input_prompt_number == nbb_cell_id) {\n",
       "                        if (nbb_cells[i].get_text() == nbb_unformatted_code) {\n",
       "                             nbb_cells[i].set_text(nbb_formatted_code);\n",
       "                        }\n",
       "                        break;\n",
       "                    }\n",
       "                }\n",
       "            }, 500);\n",
       "            "
      ],
      "text/plain": [
       "<IPython.core.display.Javascript object>"
      ]
     },
     "metadata": {},
     "output_type": "display_data"
    }
   ],
   "source": [
    "recoil_momentum = (df[filt_beta][\"m\"] * df[filt_beta][\"v_z\"]).sum()"
   ]
  },
  {
   "cell_type": "code",
   "execution_count": 146,
   "metadata": {},
   "outputs": [
    {
     "name": "stdout",
     "output_type": "stream",
     "text": [
      "Beta factor: 2.41\n"
     ]
    },
    {
     "data": {
      "application/javascript": [
       "\n",
       "            setTimeout(function() {\n",
       "                var nbb_cell_id = 146;\n",
       "                var nbb_unformatted_code = \"beta = recoil_momentum / impactor_momentum\\nprint(f\\\"Beta factor: {beta:.2f}\\\")\";\n",
       "                var nbb_formatted_code = \"beta = recoil_momentum / impactor_momentum\\nprint(f\\\"Beta factor: {beta:.2f}\\\")\";\n",
       "                var nbb_cells = Jupyter.notebook.get_cells();\n",
       "                for (var i = 0; i < nbb_cells.length; ++i) {\n",
       "                    if (nbb_cells[i].input_prompt_number == nbb_cell_id) {\n",
       "                        if (nbb_cells[i].get_text() == nbb_unformatted_code) {\n",
       "                             nbb_cells[i].set_text(nbb_formatted_code);\n",
       "                        }\n",
       "                        break;\n",
       "                    }\n",
       "                }\n",
       "            }, 500);\n",
       "            "
      ],
      "text/plain": [
       "<IPython.core.display.Javascript object>"
      ]
     },
     "metadata": {},
     "output_type": "display_data"
    }
   ],
   "source": [
    "beta = (impactor_momentum + recoil_momentum) / impactor_momentum\n",
    "print(f\"Beta factor: {beta:.2f}\")"
   ]
  }
 ],
 "metadata": {
  "kernelspec": {
   "display_name": "Python 3",
   "language": "python",
   "name": "python3"
  },
  "language_info": {
   "codemirror_mode": {
    "name": "ipython",
    "version": 3
   },
   "file_extension": ".py",
   "mimetype": "text/x-python",
   "name": "python",
   "nbconvert_exporter": "python",
   "pygments_lexer": "ipython3",
   "version": "3.6.9"
  }
 },
 "nbformat": 4,
 "nbformat_minor": 4
}
