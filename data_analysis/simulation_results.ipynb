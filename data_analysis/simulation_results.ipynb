{
 "cells": [
  {
   "cell_type": "markdown",
   "metadata": {},
   "source": [
    "# Analysis of AIDA impact simulations"
   ]
  },
  {
   "cell_type": "markdown",
   "metadata": {},
   "source": [
    "## 0) Imports"
   ]
  },
  {
   "cell_type": "code",
   "execution_count": 22,
   "metadata": {},
   "outputs": [
    {
     "name": "stdout",
     "output_type": "stream",
     "text": [
      "The nb_black extension is already loaded. To reload it, use:\n",
      "  %reload_ext nb_black\n"
     ]
    },
    {
     "data": {
      "application/javascript": [
       "\n",
       "            setTimeout(function() {\n",
       "                var nbb_cell_id = 22;\n",
       "                var nbb_unformatted_code = \"import numpy as np\\nfrom matplotlib import pyplot as plt\\nimport pandas as pd\\nimport h5py\\n\\n%load_ext nb_black\\n%matplotlib inline\\nplt.rcParams[\\\"figure.figsize\\\"] = (15, 10)\\npd.set_option(\\\"display.precision\\\", 2)\";\n",
       "                var nbb_formatted_code = \"import numpy as np\\nfrom matplotlib import pyplot as plt\\nimport pandas as pd\\nimport h5py\\n\\n%load_ext nb_black\\n%matplotlib inline\\nplt.rcParams[\\\"figure.figsize\\\"] = (15, 10)\\npd.set_option(\\\"display.precision\\\", 2)\";\n",
       "                var nbb_cells = Jupyter.notebook.get_cells();\n",
       "                for (var i = 0; i < nbb_cells.length; ++i) {\n",
       "                    if (nbb_cells[i].input_prompt_number == nbb_cell_id) {\n",
       "                        if (nbb_cells[i].get_text() == nbb_unformatted_code) {\n",
       "                             nbb_cells[i].set_text(nbb_formatted_code);\n",
       "                        }\n",
       "                        break;\n",
       "                    }\n",
       "                }\n",
       "            }, 500);\n",
       "            "
      ],
      "text/plain": [
       "<IPython.core.display.Javascript object>"
      ]
     },
     "metadata": {},
     "output_type": "display_data"
    }
   ],
   "source": [
    "import numpy as np\n",
    "from matplotlib import pyplot as plt\n",
    "import pandas as pd\n",
    "import h5py\n",
    "\n",
    "%load_ext nb_black\n",
    "%matplotlib inline\n",
    "plt.rcParams[\"figure.figsize\"] = (15, 10)\n",
    "pd.set_option(\"display.precision\", 2)"
   ]
  },
  {
   "cell_type": "markdown",
   "metadata": {},
   "source": [
    "## 1) Load simulation data:"
   ]
  },
  {
   "cell_type": "code",
   "execution_count": 6,
   "metadata": {},
   "outputs": [
    {
     "data": {
      "application/javascript": [
       "\n",
       "            setTimeout(function() {\n",
       "                var nbb_cell_id = 6;\n",
       "                var nbb_unformatted_code = \"dirpath = \\\"../data/\\\"\\nfilename = \\\"impact_damage_visc1.0089.h5\\\"\";\n",
       "                var nbb_formatted_code = \"dirpath = \\\"../data/\\\"\\nfilename = \\\"impact_damage_visc1.0089.h5\\\"\";\n",
       "                var nbb_cells = Jupyter.notebook.get_cells();\n",
       "                for (var i = 0; i < nbb_cells.length; ++i) {\n",
       "                    if (nbb_cells[i].input_prompt_number == nbb_cell_id) {\n",
       "                        if (nbb_cells[i].get_text() == nbb_unformatted_code) {\n",
       "                             nbb_cells[i].set_text(nbb_formatted_code);\n",
       "                        }\n",
       "                        break;\n",
       "                    }\n",
       "                }\n",
       "            }, 500);\n",
       "            "
      ],
      "text/plain": [
       "<IPython.core.display.Javascript object>"
      ]
     },
     "metadata": {},
     "output_type": "display_data"
    }
   ],
   "source": [
    "dirpath = \"../data/\"\n",
    "filename = \"impact_damage_visc1.0089.h5\""
   ]
  },
  {
   "cell_type": "code",
   "execution_count": 102,
   "metadata": {},
   "outputs": [
    {
     "data": {
      "application/javascript": [
       "\n",
       "            setTimeout(function() {\n",
       "                var nbb_cell_id = 102;\n",
       "                var nbb_unformatted_code = \"with h5py.File(f\\\"{dirpath}{filename}\\\", \\\"r\\\") as hdf:\\n    keys = list(hdf.keys())\\n    positions = hdf.get(\\\"x\\\")[:]\\n    velocities = np.array(hdf.get(\\\"v\\\")[:])\";\n",
       "                var nbb_formatted_code = \"with h5py.File(f\\\"{dirpath}{filename}\\\", \\\"r\\\") as hdf:\\n    keys = list(hdf.keys())\\n    positions = hdf.get(\\\"x\\\")[:]\\n    velocities = np.array(hdf.get(\\\"v\\\")[:])\";\n",
       "                var nbb_cells = Jupyter.notebook.get_cells();\n",
       "                for (var i = 0; i < nbb_cells.length; ++i) {\n",
       "                    if (nbb_cells[i].input_prompt_number == nbb_cell_id) {\n",
       "                        if (nbb_cells[i].get_text() == nbb_unformatted_code) {\n",
       "                             nbb_cells[i].set_text(nbb_formatted_code);\n",
       "                        }\n",
       "                        break;\n",
       "                    }\n",
       "                }\n",
       "            }, 500);\n",
       "            "
      ],
      "text/plain": [
       "<IPython.core.display.Javascript object>"
      ]
     },
     "metadata": {},
     "output_type": "display_data"
    }
   ],
   "source": [
    "with h5py.File(f\"{dirpath}{filename}\", \"r\") as hdf:\n",
    "    keys = list(hdf.keys())\n",
    "    positions = hdf.get(\"x\")[:]\n",
    "    velocities = hdf.get(\"v\")[:]"
   ]
  },
  {
   "cell_type": "code",
   "execution_count": 103,
   "metadata": {},
   "outputs": [
    {
     "data": {
      "application/javascript": [
       "\n",
       "            setTimeout(function() {\n",
       "                var nbb_cell_id = 103;\n",
       "                var nbb_unformatted_code = \"df = pd.DataFrame(\\n    {\\n        \\\"x\\\": positions[:, 0],\\n        \\\"y\\\": positions[:, 1],\\n        \\\"z\\\": positions[:, 2],\\n        \\\"v_x\\\": velocities[:, 0],\\n        \\\"v_y\\\": velocities[:, 1],\\n        \\\"v_z\\\": velocities[:, 2],\\n    }\\n)\";\n",
       "                var nbb_formatted_code = \"df = pd.DataFrame(\\n    {\\n        \\\"x\\\": positions[:, 0],\\n        \\\"y\\\": positions[:, 1],\\n        \\\"z\\\": positions[:, 2],\\n        \\\"v_x\\\": velocities[:, 0],\\n        \\\"v_y\\\": velocities[:, 1],\\n        \\\"v_z\\\": velocities[:, 2],\\n    }\\n)\";\n",
       "                var nbb_cells = Jupyter.notebook.get_cells();\n",
       "                for (var i = 0; i < nbb_cells.length; ++i) {\n",
       "                    if (nbb_cells[i].input_prompt_number == nbb_cell_id) {\n",
       "                        if (nbb_cells[i].get_text() == nbb_unformatted_code) {\n",
       "                             nbb_cells[i].set_text(nbb_formatted_code);\n",
       "                        }\n",
       "                        break;\n",
       "                    }\n",
       "                }\n",
       "            }, 500);\n",
       "            "
      ],
      "text/plain": [
       "<IPython.core.display.Javascript object>"
      ]
     },
     "metadata": {},
     "output_type": "display_data"
    }
   ],
   "source": [
    "df = pd.DataFrame(\n",
    "    {\n",
    "        \"x\": positions[:, 0],\n",
    "        \"y\": positions[:, 1],\n",
    "        \"z\": positions[:, 2],\n",
    "        \"v_x\": velocities[:, 0],\n",
    "        \"v_y\": velocities[:, 1],\n",
    "        \"v_z\": velocities[:, 2],\n",
    "    }\n",
    ")"
   ]
  },
  {
   "cell_type": "code",
   "execution_count": 106,
   "metadata": {},
   "outputs": [
    {
     "data": {
      "text/html": [
       "<div>\n",
       "<style scoped>\n",
       "    .dataframe tbody tr th:only-of-type {\n",
       "        vertical-align: middle;\n",
       "    }\n",
       "\n",
       "    .dataframe tbody tr th {\n",
       "        vertical-align: top;\n",
       "    }\n",
       "\n",
       "    .dataframe thead th {\n",
       "        text-align: right;\n",
       "    }\n",
       "</style>\n",
       "<table border=\"1\" class=\"dataframe\">\n",
       "  <thead>\n",
       "    <tr style=\"text-align: right;\">\n",
       "      <th></th>\n",
       "      <th>x</th>\n",
       "      <th>y</th>\n",
       "      <th>z</th>\n",
       "      <th>v_x</th>\n",
       "      <th>v_y</th>\n",
       "      <th>v_z</th>\n",
       "    </tr>\n",
       "  </thead>\n",
       "  <tbody>\n",
       "    <tr>\n",
       "      <th>0</th>\n",
       "      <td>-0.48</td>\n",
       "      <td>-0.30</td>\n",
       "      <td>-9.75</td>\n",
       "      <td>-0.02</td>\n",
       "      <td>-1.61e-02</td>\n",
       "      <td>-0.55</td>\n",
       "    </tr>\n",
       "    <tr>\n",
       "      <th>1</th>\n",
       "      <td>0.13</td>\n",
       "      <td>-0.30</td>\n",
       "      <td>-9.75</td>\n",
       "      <td>0.01</td>\n",
       "      <td>-1.60e-02</td>\n",
       "      <td>-0.55</td>\n",
       "    </tr>\n",
       "    <tr>\n",
       "      <th>2</th>\n",
       "      <td>-0.48</td>\n",
       "      <td>0.07</td>\n",
       "      <td>-9.75</td>\n",
       "      <td>-0.02</td>\n",
       "      <td>6.37e-03</td>\n",
       "      <td>-0.55</td>\n",
       "    </tr>\n",
       "    <tr>\n",
       "      <th>3</th>\n",
       "      <td>0.13</td>\n",
       "      <td>0.07</td>\n",
       "      <td>-9.75</td>\n",
       "      <td>0.01</td>\n",
       "      <td>6.14e-03</td>\n",
       "      <td>-0.55</td>\n",
       "    </tr>\n",
       "    <tr>\n",
       "      <th>4</th>\n",
       "      <td>-0.48</td>\n",
       "      <td>0.44</td>\n",
       "      <td>-9.75</td>\n",
       "      <td>-0.02</td>\n",
       "      <td>2.70e-02</td>\n",
       "      <td>-0.54</td>\n",
       "    </tr>\n",
       "    <tr>\n",
       "      <th>...</th>\n",
       "      <td>...</td>\n",
       "      <td>...</td>\n",
       "      <td>...</td>\n",
       "      <td>...</td>\n",
       "      <td>...</td>\n",
       "      <td>...</td>\n",
       "    </tr>\n",
       "    <tr>\n",
       "      <th>99740</th>\n",
       "      <td>3.41</td>\n",
       "      <td>-1.00</td>\n",
       "      <td>5.16</td>\n",
       "      <td>471.58</td>\n",
       "      <td>-1.29e+02</td>\n",
       "      <td>798.59</td>\n",
       "    </tr>\n",
       "    <tr>\n",
       "      <th>99741</th>\n",
       "      <td>0.20</td>\n",
       "      <td>0.71</td>\n",
       "      <td>-1.08</td>\n",
       "      <td>10.65</td>\n",
       "      <td>-1.24e+02</td>\n",
       "      <td>8.84</td>\n",
       "    </tr>\n",
       "    <tr>\n",
       "      <th>99742</th>\n",
       "      <td>3.36</td>\n",
       "      <td>1.31</td>\n",
       "      <td>5.29</td>\n",
       "      <td>465.09</td>\n",
       "      <td>1.90e+02</td>\n",
       "      <td>819.28</td>\n",
       "    </tr>\n",
       "    <tr>\n",
       "      <th>99743</th>\n",
       "      <td>-0.22</td>\n",
       "      <td>3.70</td>\n",
       "      <td>7.12</td>\n",
       "      <td>30.25</td>\n",
       "      <td>4.91e+02</td>\n",
       "      <td>1119.42</td>\n",
       "    </tr>\n",
       "    <tr>\n",
       "      <th>99744</th>\n",
       "      <td>0.69</td>\n",
       "      <td>2.58</td>\n",
       "      <td>7.82</td>\n",
       "      <td>48.74</td>\n",
       "      <td>3.23e+02</td>\n",
       "      <td>1157.25</td>\n",
       "    </tr>\n",
       "  </tbody>\n",
       "</table>\n",
       "<p>99745 rows × 6 columns</p>\n",
       "</div>"
      ],
      "text/plain": [
       "          x     y     z     v_x       v_y      v_z\n",
       "0     -0.48 -0.30 -9.75   -0.02 -1.61e-02    -0.55\n",
       "1      0.13 -0.30 -9.75    0.01 -1.60e-02    -0.55\n",
       "2     -0.48  0.07 -9.75   -0.02  6.37e-03    -0.55\n",
       "3      0.13  0.07 -9.75    0.01  6.14e-03    -0.55\n",
       "4     -0.48  0.44 -9.75   -0.02  2.70e-02    -0.54\n",
       "...     ...   ...   ...     ...       ...      ...\n",
       "99740  3.41 -1.00  5.16  471.58 -1.29e+02   798.59\n",
       "99741  0.20  0.71 -1.08   10.65 -1.24e+02     8.84\n",
       "99742  3.36  1.31  5.29  465.09  1.90e+02   819.28\n",
       "99743 -0.22  3.70  7.12   30.25  4.91e+02  1119.42\n",
       "99744  0.69  2.58  7.82   48.74  3.23e+02  1157.25\n",
       "\n",
       "[99745 rows x 6 columns]"
      ]
     },
     "execution_count": 106,
     "metadata": {},
     "output_type": "execute_result"
    },
    {
     "data": {
      "application/javascript": [
       "\n",
       "            setTimeout(function() {\n",
       "                var nbb_cell_id = 106;\n",
       "                var nbb_unformatted_code = \"df\";\n",
       "                var nbb_formatted_code = \"df\";\n",
       "                var nbb_cells = Jupyter.notebook.get_cells();\n",
       "                for (var i = 0; i < nbb_cells.length; ++i) {\n",
       "                    if (nbb_cells[i].input_prompt_number == nbb_cell_id) {\n",
       "                        if (nbb_cells[i].get_text() == nbb_unformatted_code) {\n",
       "                             nbb_cells[i].set_text(nbb_formatted_code);\n",
       "                        }\n",
       "                        break;\n",
       "                    }\n",
       "                }\n",
       "            }, 500);\n",
       "            "
      ],
      "text/plain": [
       "<IPython.core.display.Javascript object>"
      ]
     },
     "metadata": {},
     "output_type": "display_data"
    }
   ],
   "source": [
    "df"
   ]
  }
 ],
 "metadata": {
  "kernelspec": {
   "display_name": "Python 3",
   "language": "python",
   "name": "python3"
  },
  "language_info": {
   "codemirror_mode": {
    "name": "ipython",
    "version": 3
   },
   "file_extension": ".py",
   "mimetype": "text/x-python",
   "name": "python",
   "nbconvert_exporter": "python",
   "pygments_lexer": "ipython3",
   "version": "3.7.4"
  }
 },
 "nbformat": 4,
 "nbformat_minor": 4
}
