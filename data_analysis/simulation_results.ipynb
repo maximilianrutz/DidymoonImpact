{
 "cells": [
  {
   "cell_type": "markdown",
   "metadata": {
    "slideshow": {
     "slide_type": "slide"
    }
   },
   "source": [
    "# <center>Analysis of DART impact simulations</center>"
   ]
  },
  {
   "cell_type": "markdown",
   "metadata": {},
   "source": [
    "## 0) Imports"
   ]
  },
  {
   "cell_type": "code",
   "execution_count": 1,
   "metadata": {},
   "outputs": [
    {
     "data": {
      "application/javascript": [
       "\n",
       "            setTimeout(function() {\n",
       "                var nbb_cell_id = 1;\n",
       "                var nbb_unformatted_code = \"import numpy as np\\nfrom matplotlib import pyplot as plt\\nimport pandas as pd\\n\\nimport os\\nimport h5py\\nfrom betafactor import betafactor\\n\\n%load_ext nb_black\\n%matplotlib inline\\nplt.rcParams[\\\"figure.figsize\\\"] = (15, 10)\\npd.set_option(\\\"display.precision\\\", 2)\";\n",
       "                var nbb_formatted_code = \"import numpy as np\\nfrom matplotlib import pyplot as plt\\nimport pandas as pd\\n\\nimport os\\nimport h5py\\nfrom betafactor import betafactor\\n\\n%load_ext nb_black\\n%matplotlib inline\\nplt.rcParams[\\\"figure.figsize\\\"] = (15, 10)\\npd.set_option(\\\"display.precision\\\", 2)\";\n",
       "                var nbb_cells = Jupyter.notebook.get_cells();\n",
       "                for (var i = 0; i < nbb_cells.length; ++i) {\n",
       "                    if (nbb_cells[i].input_prompt_number == nbb_cell_id) {\n",
       "                        if (nbb_cells[i].get_text() == nbb_unformatted_code) {\n",
       "                             nbb_cells[i].set_text(nbb_formatted_code);\n",
       "                        }\n",
       "                        break;\n",
       "                    }\n",
       "                }\n",
       "            }, 500);\n",
       "            "
      ],
      "text/plain": [
       "<IPython.core.display.Javascript object>"
      ]
     },
     "metadata": {},
     "output_type": "display_data"
    }
   ],
   "source": [
    "import numpy as np\n",
    "from matplotlib import pyplot as plt\n",
    "import pandas as pd\n",
    "\n",
    "import os\n",
    "import h5py\n",
    "from betafactor import betafactor\n",
    "\n",
    "%load_ext nb_black\n",
    "%matplotlib inline\n",
    "plt.rcParams[\"figure.figsize\"] = (15, 10)\n",
    "pd.set_option(\"display.precision\", 2)"
   ]
  },
  {
   "cell_type": "markdown",
   "metadata": {},
   "source": [
    "## 1) Beta factor:"
   ]
  },
  {
   "cell_type": "code",
   "execution_count": 14,
   "metadata": {},
   "outputs": [
    {
     "data": {
      "text/plain": [
       "['/scratch/rutz/DidymoonImpact/data/binac_por_str/por0_str1e3_ang0/impact_por0_str1e3_ang0.0300.h5',\n",
       " '/scratch/rutz/DidymoonImpact/data/binac_por_str/por0_str1e4_ang0/impact_por0_str1e4_ang0.0300.h5',\n",
       " '/scratch/rutz/DidymoonImpact/data/binac_por_str/por0_str1e5_ang0/impact_por0_str1e5_ang0.0300.h5',\n",
       " '/scratch/rutz/DidymoonImpact/data/binac_por_str/por0_str1e6_ang0/impact_por0_str1e6_ang0.0300.h5',\n",
       " '/scratch/rutz/DidymoonImpact/data/binac_por_str/por17_str1e3_ang0/impact_por17_str1e3_ang0.0300.h5',\n",
       " '/scratch/rutz/DidymoonImpact/data/binac_por_str/por17_str1e4_ang0/impact_por17_str1e4_ang0.0300.h5',\n",
       " '/scratch/rutz/DidymoonImpact/data/binac_por_str/por17_str1e5_ang0/impact_por17_str1e5_ang0.0300.h5',\n",
       " '/scratch/rutz/DidymoonImpact/data/binac_por_str/por17_str1e6_ang0/impact_por17_str1e6_ang0.0300.h5',\n",
       " '/scratch/rutz/DidymoonImpact/data/binac_por_str/por33_str1e3_ang0/impact_por33_str1e3_ang0.0300.h5',\n",
       " '/scratch/rutz/DidymoonImpact/data/binac_por_str/por33_str1e4_ang0/impact_por33_str1e4_ang0.0300.h5',\n",
       " '/scratch/rutz/DidymoonImpact/data/binac_por_str/por33_str1e5_ang0/impact_por33_str1e5_ang0.0300.h5',\n",
       " '/scratch/rutz/DidymoonImpact/data/binac_por_str/por33_str1e6_ang0/impact_por33_str1e6_ang0.0300.h5',\n",
       " '/scratch/rutz/DidymoonImpact/data/binac_por_str/por50_str1e3_ang0/impact_por50_str1e3_ang0.0300.h5',\n",
       " '/scratch/rutz/DidymoonImpact/data/binac_por_str/por50_str1e4_ang0/impact_por50_str1e4_ang0.0300.h5',\n",
       " '/scratch/rutz/DidymoonImpact/data/binac_por_str/por50_str1e5_ang0/impact_por50_str1e5_ang0.0300.h5',\n",
       " '/scratch/rutz/DidymoonImpact/data/binac_por_str/por50_str1e6_ang0/impact_por50_str1e6_ang0.0300.h5']"
      ]
     },
     "execution_count": 14,
     "metadata": {},
     "output_type": "execute_result"
    },
    {
     "data": {
      "application/javascript": [
       "\n",
       "            setTimeout(function() {\n",
       "                var nbb_cell_id = 14;\n",
       "                var nbb_unformatted_code = \"project_path = \\\"/scratch/rutz/DidymoonImpact\\\"\\nfolder_name = \\\"binac_por_str\\\"\\n\\nfilelist = sorted(os.listdir(f\\\"{project_path}/data/{folder_name}/\\\"))[::2]\\nfiles = [\\n    f\\\"{project_path}/data/{folder_name}/{file}/impact_{file}.0300.h5\\\"\\n    for file in filelist\\n]\\nfiles\";\n",
       "                var nbb_formatted_code = \"project_path = \\\"/scratch/rutz/DidymoonImpact\\\"\\nfolder_name = \\\"binac_por_str\\\"\\n\\nfilelist = sorted(os.listdir(f\\\"{project_path}/data/{folder_name}/\\\"))[::2]\\nfiles = [\\n    f\\\"{project_path}/data/{folder_name}/{file}/impact_{file}.0300.h5\\\"\\n    for file in filelist\\n]\\nfiles\";\n",
       "                var nbb_cells = Jupyter.notebook.get_cells();\n",
       "                for (var i = 0; i < nbb_cells.length; ++i) {\n",
       "                    if (nbb_cells[i].input_prompt_number == nbb_cell_id) {\n",
       "                        if (nbb_cells[i].get_text() == nbb_unformatted_code) {\n",
       "                             nbb_cells[i].set_text(nbb_formatted_code);\n",
       "                        }\n",
       "                        break;\n",
       "                    }\n",
       "                }\n",
       "            }, 500);\n",
       "            "
      ],
      "text/plain": [
       "<IPython.core.display.Javascript object>"
      ]
     },
     "metadata": {},
     "output_type": "display_data"
    }
   ],
   "source": [
    "project_path = \"/scratch/rutz/DidymoonImpact\"\n",
    "folder_name = \"binac_por_str\"\n",
    "\n",
    "filelist = sorted(os.listdir(f\"{project_path}/data/{folder_name}/\"))[::2]\n",
    "files = [\n",
    "    f\"{project_path}/data/{folder_name}/{file}/impact_{file}.0300.h5\"\n",
    "    for file in filelist\n",
    "]\n",
    "files"
   ]
  },
  {
   "cell_type": "code",
   "execution_count": 16,
   "metadata": {
    "scrolled": false
   },
   "outputs": [
    {
     "data": {
      "application/javascript": [
       "\n",
       "            setTimeout(function() {\n",
       "                var nbb_cell_id = 16;\n",
       "                var nbb_unformatted_code = \"ejecta_thresh = 1\\nbetas = {}\\nfor i, file in enumerate(files):\\n    betas[file.split(\\\"impact_\\\")[1].split(\\\".\\\")[0]] = betafactor(file, ejecta_thresh)\";\n",
       "                var nbb_formatted_code = \"ejecta_thresh = 1\\nbetas = {}\\nfor i, file in enumerate(files):\\n    betas[file.split(\\\"impact_\\\")[1].split(\\\".\\\")[0]] = betafactor(file, ejecta_thresh)\";\n",
       "                var nbb_cells = Jupyter.notebook.get_cells();\n",
       "                for (var i = 0; i < nbb_cells.length; ++i) {\n",
       "                    if (nbb_cells[i].input_prompt_number == nbb_cell_id) {\n",
       "                        if (nbb_cells[i].get_text() == nbb_unformatted_code) {\n",
       "                             nbb_cells[i].set_text(nbb_formatted_code);\n",
       "                        }\n",
       "                        break;\n",
       "                    }\n",
       "                }\n",
       "            }, 500);\n",
       "            "
      ],
      "text/plain": [
       "<IPython.core.display.Javascript object>"
      ]
     },
     "metadata": {},
     "output_type": "display_data"
    }
   ],
   "source": [
    "ejecta_thresh = 1\n",
    "betas = {}\n",
    "for i, file in enumerate(files):\n",
    "    betas[file.split(\"impact_\")[1].split(\".\")[0]] = betafactor(file, ejecta_thresh)"
   ]
  },
  {
   "cell_type": "code",
   "execution_count": 17,
   "metadata": {},
   "outputs": [
    {
     "data": {
      "text/plain": [
       "{'por0_str1e3_ang0': 1.428134221520615,\n",
       " 'por0_str1e4_ang0': 1.4131068912133167,\n",
       " 'por0_str1e5_ang0': 1.3567835841969718,\n",
       " 'por0_str1e6_ang0': 1.2539138157107537,\n",
       " 'por17_str1e3_ang0': 1.2275060367197017,\n",
       " 'por17_str1e4_ang0': 1.221069609543193,\n",
       " 'por17_str1e5_ang0': 1.1864947225014824,\n",
       " 'por17_str1e6_ang0': 1.1411988857907533,\n",
       " 'por33_str1e3_ang0': 1.1909499134562571,\n",
       " 'por33_str1e4_ang0': 1.1861583938120626,\n",
       " 'por33_str1e5_ang0': 1.1677527555553355,\n",
       " 'por33_str1e6_ang0': 1.1187321687659508,\n",
       " 'por50_str1e3_ang0': 1.1569381479168896,\n",
       " 'por50_str1e4_ang0': 1.1560369176912082,\n",
       " 'por50_str1e5_ang0': 1.1525607925842727,\n",
       " 'por50_str1e6_ang0': 1.1374383199715212}"
      ]
     },
     "execution_count": 17,
     "metadata": {},
     "output_type": "execute_result"
    },
    {
     "data": {
      "application/javascript": [
       "\n",
       "            setTimeout(function() {\n",
       "                var nbb_cell_id = 17;\n",
       "                var nbb_unformatted_code = \"betas\";\n",
       "                var nbb_formatted_code = \"betas\";\n",
       "                var nbb_cells = Jupyter.notebook.get_cells();\n",
       "                for (var i = 0; i < nbb_cells.length; ++i) {\n",
       "                    if (nbb_cells[i].input_prompt_number == nbb_cell_id) {\n",
       "                        if (nbb_cells[i].get_text() == nbb_unformatted_code) {\n",
       "                             nbb_cells[i].set_text(nbb_formatted_code);\n",
       "                        }\n",
       "                        break;\n",
       "                    }\n",
       "                }\n",
       "            }, 500);\n",
       "            "
      ],
      "text/plain": [
       "<IPython.core.display.Javascript object>"
      ]
     },
     "metadata": {},
     "output_type": "display_data"
    }
   ],
   "source": [
    "betas"
   ]
  },
  {
   "cell_type": "code",
   "execution_count": null,
   "metadata": {},
   "outputs": [],
   "source": [
    "str1e3 = [betas{f\"por{por}_\"}]"
   ]
  }
 ],
 "metadata": {
  "kernelspec": {
   "display_name": "Python 3",
   "language": "python",
   "name": "python3"
  },
  "language_info": {
   "codemirror_mode": {
    "name": "ipython",
    "version": 3
   },
   "file_extension": ".py",
   "mimetype": "text/x-python",
   "name": "python",
   "nbconvert_exporter": "python",
   "pygments_lexer": "ipython3",
   "version": "3.6.9"
  }
 },
 "nbformat": 4,
 "nbformat_minor": 4
}
